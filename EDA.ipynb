{
  "nbformat": 4,
  "nbformat_minor": 0,
  "metadata": {
    "colab": {
      "name": "EDA.ipynb",
      "provenance": [],
      "collapsed_sections": []
    },
    "kernelspec": {
      "name": "python3",
      "display_name": "Python 3"
    },
    "language_info": {
      "name": "python"
    }
  },
  "cells": [
    {
      "cell_type": "markdown",
      "metadata": {
        "id": "MQLMKtpkpO3Q"
      },
      "source": [
        "# **`Data Preprocessing`** "
      ]
    },
    {
      "cell_type": "code",
      "metadata": {
        "id": "LDVBC_Zm0eXG"
      },
      "source": [
        "import pandas as pd"
      ],
      "execution_count": 4,
      "outputs": []
    },
    {
      "cell_type": "code",
      "metadata": {
        "id": "k1g5NoIDg-QR"
      },
      "source": [
        "import numpy as np\n",
        "import matplotlib.pyplot as plt"
      ],
      "execution_count": 5,
      "outputs": []
    },
    {
      "cell_type": "code",
      "metadata": {
        "id": "CrSHzaRkhI1Q"
      },
      "source": [
        "df=pd.read_csv(\"https://raw.githubusercontent.com/Sumit-Kumar-Dash/study-material/main/Indus_DS_PreWork_Data%20-%20raw.csv?token=AH4VYPXAJ4KN3WFFCCO3AUDA75NJC\")"
      ],
      "execution_count": 6,
      "outputs": []
    },
    {
      "cell_type": "code",
      "metadata": {
        "colab": {
          "base_uri": "https://localhost:8080/",
          "height": 1000
        },
        "id": "q8vWaKqShsRG",
        "outputId": "75f1a339-65f9-4bcf-eb23-f9e11dc148ac"
      },
      "source": [
        "df"
      ],
      "execution_count": 7,
      "outputs": [
        {
          "output_type": "execute_result",
          "data": {
            "text/html": [
              "<div>\n",
              "<style scoped>\n",
              "    .dataframe tbody tr th:only-of-type {\n",
              "        vertical-align: middle;\n",
              "    }\n",
              "\n",
              "    .dataframe tbody tr th {\n",
              "        vertical-align: top;\n",
              "    }\n",
              "\n",
              "    .dataframe thead th {\n",
              "        text-align: right;\n",
              "    }\n",
              "</style>\n",
              "<table border=\"1\" class=\"dataframe\">\n",
              "  <thead>\n",
              "    <tr style=\"text-align: right;\">\n",
              "      <th></th>\n",
              "      <th>id</th>\n",
              "      <th>scholarshipAvailed</th>\n",
              "      <th>age</th>\n",
              "      <th>pincode</th>\n",
              "      <th>hasAdhar</th>\n",
              "      <th>literacy</th>\n",
              "      <th>hasEnrolledAdultLiteracy</th>\n",
              "      <th>eduType</th>\n",
              "      <th>eduInformal</th>\n",
              "      <th>statusFormalEdu</th>\n",
              "      <th>eduOther</th>\n",
              "      <th>typeOfSchool</th>\n",
              "      <th>noScholarshipReason</th>\n",
              "      <th>eduTransport</th>\n",
              "      <th>isHeadOfFamily</th>\n",
              "      <th>genderHeadOfFamily</th>\n",
              "      <th>relWithHeadOfFamily</th>\n",
              "      <th>hasPDS</th>\n",
              "      <th>hasSECC</th>\n",
              "      <th>hasAyushmanBharat</th>\n",
              "      <th>hasLand</th>\n",
              "      <th>reasonLandless</th>\n",
              "      <th>hasHealthCert</th>\n",
              "      <th>employmentType</th>\n",
              "      <th>isWageEarner</th>\n",
              "      <th>isSHGMember</th>\n",
              "      <th>isCooperativeMember</th>\n",
              "      <th>isFPOMember</th>\n",
              "      <th>noGroup</th>\n",
              "      <th>wageRecievedCOVID</th>\n",
              "      <th>liveLostCOVID</th>\n",
              "      <th>disabledCOVID</th>\n",
              "      <th>illnessCOVID</th>\n",
              "      <th>injuryCOVID</th>\n",
              "      <th>movablePropLostCOVID</th>\n",
              "      <th>immovablePropLostCOVID</th>\n",
              "      <th>interestedCertProgram</th>\n",
              "      <th>vocationCategory</th>\n",
              "    </tr>\n",
              "  </thead>\n",
              "  <tbody>\n",
              "    <tr>\n",
              "      <th>0</th>\n",
              "      <td>16-3-0-0-0-0-0-35-0-0</td>\n",
              "      <td>Not availed</td>\n",
              "      <td>28</td>\n",
              "      <td>700027.0</td>\n",
              "      <td>हाँ</td>\n",
              "      <td>Literate</td>\n",
              "      <td>NaN</td>\n",
              "      <td>Formal</td>\n",
              "      <td>NaN</td>\n",
              "      <td>Continuing</td>\n",
              "      <td>NaN</td>\n",
              "      <td>Private</td>\n",
              "      <td>None</td>\n",
              "      <td>Walking</td>\n",
              "      <td>Yes</td>\n",
              "      <td>NaN</td>\n",
              "      <td>NaN</td>\n",
              "      <td>नही</td>\n",
              "      <td>नही</td>\n",
              "      <td>नही</td>\n",
              "      <td>हाँ</td>\n",
              "      <td>NaN</td>\n",
              "      <td>नहीं</td>\n",
              "      <td>NaN</td>\n",
              "      <td>NaN</td>\n",
              "      <td>NaN</td>\n",
              "      <td>NaN</td>\n",
              "      <td>NaN</td>\n",
              "      <td>NaN</td>\n",
              "      <td>NaN</td>\n",
              "      <td>NaN</td>\n",
              "      <td>NaN</td>\n",
              "      <td>NaN</td>\n",
              "      <td>NaN</td>\n",
              "      <td>NaN</td>\n",
              "      <td>NaN</td>\n",
              "      <td>NaN</td>\n",
              "      <td>NaN</td>\n",
              "    </tr>\n",
              "    <tr>\n",
              "      <th>1</th>\n",
              "      <td>16-5-0-0-0-0-0-35-0-0</td>\n",
              "      <td>Not availed</td>\n",
              "      <td>28</td>\n",
              "      <td>700027.0</td>\n",
              "      <td>हाँ</td>\n",
              "      <td>Literate</td>\n",
              "      <td>NaN</td>\n",
              "      <td>Formal</td>\n",
              "      <td>NaN</td>\n",
              "      <td>Continuing</td>\n",
              "      <td>NaN</td>\n",
              "      <td>Private</td>\n",
              "      <td>None</td>\n",
              "      <td>Walking</td>\n",
              "      <td>Yes</td>\n",
              "      <td>NaN</td>\n",
              "      <td>NaN</td>\n",
              "      <td>नही</td>\n",
              "      <td>नही</td>\n",
              "      <td>नही</td>\n",
              "      <td>हाँ</td>\n",
              "      <td>NaN</td>\n",
              "      <td>नहीं</td>\n",
              "      <td>NaN</td>\n",
              "      <td>NaN</td>\n",
              "      <td>NaN</td>\n",
              "      <td>NaN</td>\n",
              "      <td>NaN</td>\n",
              "      <td>NaN</td>\n",
              "      <td>NaN</td>\n",
              "      <td>NaN</td>\n",
              "      <td>NaN</td>\n",
              "      <td>NaN</td>\n",
              "      <td>NaN</td>\n",
              "      <td>NaN</td>\n",
              "      <td>NaN</td>\n",
              "      <td>NaN</td>\n",
              "      <td>NaN</td>\n",
              "    </tr>\n",
              "    <tr>\n",
              "      <th>2</th>\n",
              "      <td>16-3-0-0-0-0-0-36-0-0</td>\n",
              "      <td>Not availed</td>\n",
              "      <td>28</td>\n",
              "      <td>700027.0</td>\n",
              "      <td>हाँ</td>\n",
              "      <td>Literate</td>\n",
              "      <td>NaN</td>\n",
              "      <td>Formal</td>\n",
              "      <td>NaN</td>\n",
              "      <td>Continuing</td>\n",
              "      <td>NaN</td>\n",
              "      <td>Private</td>\n",
              "      <td>None</td>\n",
              "      <td>Walking</td>\n",
              "      <td>Yes</td>\n",
              "      <td>NaN</td>\n",
              "      <td>NaN</td>\n",
              "      <td>नही</td>\n",
              "      <td>नही</td>\n",
              "      <td>नही</td>\n",
              "      <td>हाँ</td>\n",
              "      <td>NaN</td>\n",
              "      <td>नहीं</td>\n",
              "      <td>NaN</td>\n",
              "      <td>NaN</td>\n",
              "      <td>NaN</td>\n",
              "      <td>NaN</td>\n",
              "      <td>NaN</td>\n",
              "      <td>NaN</td>\n",
              "      <td>NaN</td>\n",
              "      <td>NaN</td>\n",
              "      <td>NaN</td>\n",
              "      <td>NaN</td>\n",
              "      <td>NaN</td>\n",
              "      <td>NaN</td>\n",
              "      <td>NaN</td>\n",
              "      <td>NaN</td>\n",
              "      <td>NaN</td>\n",
              "    </tr>\n",
              "    <tr>\n",
              "      <th>3</th>\n",
              "      <td>16-5-0-0-0-0-0-36-0-0</td>\n",
              "      <td>Not availed</td>\n",
              "      <td>28</td>\n",
              "      <td>700027.0</td>\n",
              "      <td>हाँ</td>\n",
              "      <td>Literate</td>\n",
              "      <td>NaN</td>\n",
              "      <td>Formal</td>\n",
              "      <td>NaN</td>\n",
              "      <td>Continuing</td>\n",
              "      <td>NaN</td>\n",
              "      <td>Private</td>\n",
              "      <td>None</td>\n",
              "      <td>Walking</td>\n",
              "      <td>Yes</td>\n",
              "      <td>NaN</td>\n",
              "      <td>NaN</td>\n",
              "      <td>नही</td>\n",
              "      <td>नही</td>\n",
              "      <td>नही</td>\n",
              "      <td>हाँ</td>\n",
              "      <td>NaN</td>\n",
              "      <td>नहीं</td>\n",
              "      <td>NaN</td>\n",
              "      <td>NaN</td>\n",
              "      <td>NaN</td>\n",
              "      <td>NaN</td>\n",
              "      <td>NaN</td>\n",
              "      <td>NaN</td>\n",
              "      <td>NaN</td>\n",
              "      <td>NaN</td>\n",
              "      <td>NaN</td>\n",
              "      <td>NaN</td>\n",
              "      <td>NaN</td>\n",
              "      <td>NaN</td>\n",
              "      <td>NaN</td>\n",
              "      <td>NaN</td>\n",
              "      <td>NaN</td>\n",
              "    </tr>\n",
              "    <tr>\n",
              "      <th>4</th>\n",
              "      <td>16-3-0-0-0-0-0-37-0-0</td>\n",
              "      <td>Not availed</td>\n",
              "      <td>28</td>\n",
              "      <td>700027.0</td>\n",
              "      <td>हाँ</td>\n",
              "      <td>Literate</td>\n",
              "      <td>NaN</td>\n",
              "      <td>Formal</td>\n",
              "      <td>NaN</td>\n",
              "      <td>Continuing</td>\n",
              "      <td>NaN</td>\n",
              "      <td>Private</td>\n",
              "      <td>None</td>\n",
              "      <td>Walking</td>\n",
              "      <td>Yes</td>\n",
              "      <td>NaN</td>\n",
              "      <td>NaN</td>\n",
              "      <td>नही</td>\n",
              "      <td>नही</td>\n",
              "      <td>नही</td>\n",
              "      <td>हाँ</td>\n",
              "      <td>NaN</td>\n",
              "      <td>नहीं</td>\n",
              "      <td>NaN</td>\n",
              "      <td>NaN</td>\n",
              "      <td>NaN</td>\n",
              "      <td>NaN</td>\n",
              "      <td>NaN</td>\n",
              "      <td>NaN</td>\n",
              "      <td>NaN</td>\n",
              "      <td>NaN</td>\n",
              "      <td>NaN</td>\n",
              "      <td>NaN</td>\n",
              "      <td>NaN</td>\n",
              "      <td>NaN</td>\n",
              "      <td>NaN</td>\n",
              "      <td>NaN</td>\n",
              "      <td>NaN</td>\n",
              "    </tr>\n",
              "    <tr>\n",
              "      <th>...</th>\n",
              "      <td>...</td>\n",
              "      <td>...</td>\n",
              "      <td>...</td>\n",
              "      <td>...</td>\n",
              "      <td>...</td>\n",
              "      <td>...</td>\n",
              "      <td>...</td>\n",
              "      <td>...</td>\n",
              "      <td>...</td>\n",
              "      <td>...</td>\n",
              "      <td>...</td>\n",
              "      <td>...</td>\n",
              "      <td>...</td>\n",
              "      <td>...</td>\n",
              "      <td>...</td>\n",
              "      <td>...</td>\n",
              "      <td>...</td>\n",
              "      <td>...</td>\n",
              "      <td>...</td>\n",
              "      <td>...</td>\n",
              "      <td>...</td>\n",
              "      <td>...</td>\n",
              "      <td>...</td>\n",
              "      <td>...</td>\n",
              "      <td>...</td>\n",
              "      <td>...</td>\n",
              "      <td>...</td>\n",
              "      <td>...</td>\n",
              "      <td>...</td>\n",
              "      <td>...</td>\n",
              "      <td>...</td>\n",
              "      <td>...</td>\n",
              "      <td>...</td>\n",
              "      <td>...</td>\n",
              "      <td>...</td>\n",
              "      <td>...</td>\n",
              "      <td>...</td>\n",
              "      <td>...</td>\n",
              "    </tr>\n",
              "    <tr>\n",
              "      <th>15995</th>\n",
              "      <td>12623-33659-27911-0-0-0-0-9064-0-0</td>\n",
              "      <td>NaN</td>\n",
              "      <td>40</td>\n",
              "      <td>491441.0</td>\n",
              "      <td>हाँ</td>\n",
              "      <td>शिक्षित</td>\n",
              "      <td>NaN</td>\n",
              "      <td>औपचारिक</td>\n",
              "      <td>NaN</td>\n",
              "      <td>शिक्षा पूर्ण</td>\n",
              "      <td>NaN</td>\n",
              "      <td>NaN</td>\n",
              "      <td>NaN</td>\n",
              "      <td>NaN</td>\n",
              "      <td>हाँ</td>\n",
              "      <td>NaN</td>\n",
              "      <td>NaN</td>\n",
              "      <td>हाँ</td>\n",
              "      <td>नही</td>\n",
              "      <td>नही</td>\n",
              "      <td>हाँ</td>\n",
              "      <td>NaN</td>\n",
              "      <td>नहीं</td>\n",
              "      <td>NaN</td>\n",
              "      <td>NaN</td>\n",
              "      <td>NaN</td>\n",
              "      <td>NaN</td>\n",
              "      <td>NaN</td>\n",
              "      <td>NaN</td>\n",
              "      <td>NaN</td>\n",
              "      <td>NaN</td>\n",
              "      <td>NaN</td>\n",
              "      <td>NaN</td>\n",
              "      <td>NaN</td>\n",
              "      <td>NaN</td>\n",
              "      <td>NaN</td>\n",
              "      <td>NaN</td>\n",
              "      <td>NaN</td>\n",
              "    </tr>\n",
              "    <tr>\n",
              "      <th>15996</th>\n",
              "      <td>12623-33674-27912-0-0-0-0-9064-0-0</td>\n",
              "      <td>NaN</td>\n",
              "      <td>40</td>\n",
              "      <td>491441.0</td>\n",
              "      <td>हाँ</td>\n",
              "      <td>शिक्षित</td>\n",
              "      <td>NaN</td>\n",
              "      <td>औपचारिक</td>\n",
              "      <td>NaN</td>\n",
              "      <td>शिक्षा पूर्ण</td>\n",
              "      <td>NaN</td>\n",
              "      <td>NaN</td>\n",
              "      <td>NaN</td>\n",
              "      <td>NaN</td>\n",
              "      <td>हाँ</td>\n",
              "      <td>NaN</td>\n",
              "      <td>NaN</td>\n",
              "      <td>हाँ</td>\n",
              "      <td>नही</td>\n",
              "      <td>नही</td>\n",
              "      <td>हाँ</td>\n",
              "      <td>NaN</td>\n",
              "      <td>नहीं</td>\n",
              "      <td>NaN</td>\n",
              "      <td>NaN</td>\n",
              "      <td>NaN</td>\n",
              "      <td>NaN</td>\n",
              "      <td>NaN</td>\n",
              "      <td>NaN</td>\n",
              "      <td>NaN</td>\n",
              "      <td>NaN</td>\n",
              "      <td>NaN</td>\n",
              "      <td>NaN</td>\n",
              "      <td>NaN</td>\n",
              "      <td>NaN</td>\n",
              "      <td>NaN</td>\n",
              "      <td>NaN</td>\n",
              "      <td>NaN</td>\n",
              "    </tr>\n",
              "    <tr>\n",
              "      <th>15997</th>\n",
              "      <td>12623-33646-27894-0-0-0-0-9064-0-0</td>\n",
              "      <td>NaN</td>\n",
              "      <td>40</td>\n",
              "      <td>491441.0</td>\n",
              "      <td>हाँ</td>\n",
              "      <td>शिक्षित</td>\n",
              "      <td>NaN</td>\n",
              "      <td>औपचारिक</td>\n",
              "      <td>NaN</td>\n",
              "      <td>शिक्षा पूर्ण</td>\n",
              "      <td>NaN</td>\n",
              "      <td>NaN</td>\n",
              "      <td>NaN</td>\n",
              "      <td>NaN</td>\n",
              "      <td>हाँ</td>\n",
              "      <td>NaN</td>\n",
              "      <td>NaN</td>\n",
              "      <td>हाँ</td>\n",
              "      <td>नही</td>\n",
              "      <td>नही</td>\n",
              "      <td>हाँ</td>\n",
              "      <td>NaN</td>\n",
              "      <td>नहीं</td>\n",
              "      <td>NaN</td>\n",
              "      <td>NaN</td>\n",
              "      <td>NaN</td>\n",
              "      <td>NaN</td>\n",
              "      <td>NaN</td>\n",
              "      <td>NaN</td>\n",
              "      <td>NaN</td>\n",
              "      <td>NaN</td>\n",
              "      <td>NaN</td>\n",
              "      <td>NaN</td>\n",
              "      <td>NaN</td>\n",
              "      <td>NaN</td>\n",
              "      <td>NaN</td>\n",
              "      <td>NaN</td>\n",
              "      <td>NaN</td>\n",
              "    </tr>\n",
              "    <tr>\n",
              "      <th>15998</th>\n",
              "      <td>12625-33648-27892-0-0-0-0-9055-0-0</td>\n",
              "      <td>NaN</td>\n",
              "      <td>42</td>\n",
              "      <td>491441.0</td>\n",
              "      <td>हाँ</td>\n",
              "      <td>शिक्षित</td>\n",
              "      <td>NaN</td>\n",
              "      <td>औपचारिक</td>\n",
              "      <td>NaN</td>\n",
              "      <td>शिक्षा पूर्ण</td>\n",
              "      <td>NaN</td>\n",
              "      <td>NaN</td>\n",
              "      <td>NaN</td>\n",
              "      <td>NaN</td>\n",
              "      <td>हाँ</td>\n",
              "      <td>NaN</td>\n",
              "      <td>NaN</td>\n",
              "      <td>हाँ</td>\n",
              "      <td>नही</td>\n",
              "      <td>नही</td>\n",
              "      <td>हाँ</td>\n",
              "      <td>NaN</td>\n",
              "      <td>नहीं</td>\n",
              "      <td>NaN</td>\n",
              "      <td>NaN</td>\n",
              "      <td>NaN</td>\n",
              "      <td>NaN</td>\n",
              "      <td>NaN</td>\n",
              "      <td>NaN</td>\n",
              "      <td>NaN</td>\n",
              "      <td>NaN</td>\n",
              "      <td>NaN</td>\n",
              "      <td>NaN</td>\n",
              "      <td>NaN</td>\n",
              "      <td>NaN</td>\n",
              "      <td>NaN</td>\n",
              "      <td>NaN</td>\n",
              "      <td>NaN</td>\n",
              "    </tr>\n",
              "    <tr>\n",
              "      <th>15999</th>\n",
              "      <td>12625-33664-27888-0-0-0-0-9055-0-0</td>\n",
              "      <td>NaN</td>\n",
              "      <td>42</td>\n",
              "      <td>491441.0</td>\n",
              "      <td>हाँ</td>\n",
              "      <td>शिक्षित</td>\n",
              "      <td>NaN</td>\n",
              "      <td>औपचारिक</td>\n",
              "      <td>NaN</td>\n",
              "      <td>शिक्षा पूर्ण</td>\n",
              "      <td>NaN</td>\n",
              "      <td>NaN</td>\n",
              "      <td>NaN</td>\n",
              "      <td>NaN</td>\n",
              "      <td>हाँ</td>\n",
              "      <td>NaN</td>\n",
              "      <td>NaN</td>\n",
              "      <td>हाँ</td>\n",
              "      <td>नही</td>\n",
              "      <td>नही</td>\n",
              "      <td>हाँ</td>\n",
              "      <td>NaN</td>\n",
              "      <td>नहीं</td>\n",
              "      <td>NaN</td>\n",
              "      <td>NaN</td>\n",
              "      <td>NaN</td>\n",
              "      <td>NaN</td>\n",
              "      <td>NaN</td>\n",
              "      <td>NaN</td>\n",
              "      <td>NaN</td>\n",
              "      <td>NaN</td>\n",
              "      <td>NaN</td>\n",
              "      <td>NaN</td>\n",
              "      <td>NaN</td>\n",
              "      <td>NaN</td>\n",
              "      <td>NaN</td>\n",
              "      <td>NaN</td>\n",
              "      <td>NaN</td>\n",
              "    </tr>\n",
              "  </tbody>\n",
              "</table>\n",
              "<p>16000 rows × 38 columns</p>\n",
              "</div>"
            ],
            "text/plain": [
              "                                       id  ... vocationCategory\n",
              "0                   16-3-0-0-0-0-0-35-0-0  ...              NaN\n",
              "1                   16-5-0-0-0-0-0-35-0-0  ...              NaN\n",
              "2                   16-3-0-0-0-0-0-36-0-0  ...              NaN\n",
              "3                   16-5-0-0-0-0-0-36-0-0  ...              NaN\n",
              "4                   16-3-0-0-0-0-0-37-0-0  ...              NaN\n",
              "...                                   ...  ...              ...\n",
              "15995  12623-33659-27911-0-0-0-0-9064-0-0  ...              NaN\n",
              "15996  12623-33674-27912-0-0-0-0-9064-0-0  ...              NaN\n",
              "15997  12623-33646-27894-0-0-0-0-9064-0-0  ...              NaN\n",
              "15998  12625-33648-27892-0-0-0-0-9055-0-0  ...              NaN\n",
              "15999  12625-33664-27888-0-0-0-0-9055-0-0  ...              NaN\n",
              "\n",
              "[16000 rows x 38 columns]"
            ]
          },
          "metadata": {
            "tags": []
          },
          "execution_count": 7
        }
      ]
    },
    {
      "cell_type": "code",
      "metadata": {
        "colab": {
          "base_uri": "https://localhost:8080/"
        },
        "id": "A1Xf9XDDiTS6",
        "outputId": "30e920fe-13e6-4b61-cbd6-3fea20e09217"
      },
      "source": [
        "df.isna().sum()"
      ],
      "execution_count": 8,
      "outputs": [
        {
          "output_type": "execute_result",
          "data": {
            "text/plain": [
              "id                              0\n",
              "scholarshipAvailed          15943\n",
              "age                             0\n",
              "pincode                         5\n",
              "hasAdhar                        0\n",
              "literacy                        2\n",
              "hasEnrolledAdultLiteracy    10709\n",
              "eduType                      5307\n",
              "eduInformal                 15758\n",
              "statusFormalEdu              5594\n",
              "eduOther                    15928\n",
              "typeOfSchool                15899\n",
              "noScholarshipReason         15977\n",
              "eduTransport                15945\n",
              "isHeadOfFamily                 83\n",
              "genderHeadOfFamily          14564\n",
              "relWithHeadOfFamily         14564\n",
              "hasPDS                          0\n",
              "hasSECC                       760\n",
              "hasAyushmanBharat               0\n",
              "hasLand                         2\n",
              "reasonLandless              13909\n",
              "hasHealthCert                   0\n",
              "employmentType              14374\n",
              "isWageEarner                14376\n",
              "isSHGMember                 14431\n",
              "isCooperativeMember         14431\n",
              "isFPOMember                 14431\n",
              "noGroup                     14431\n",
              "wageRecievedCOVID           14431\n",
              "liveLostCOVID               15965\n",
              "disabledCOVID               15965\n",
              "illnessCOVID                15965\n",
              "injuryCOVID                 15965\n",
              "movablePropLostCOVID        15965\n",
              "immovablePropLostCOVID      15965\n",
              "interestedCertProgram       14780\n",
              "vocationCategory            15998\n",
              "dtype: int64"
            ]
          },
          "metadata": {
            "tags": []
          },
          "execution_count": 8
        }
      ]
    },
    {
      "cell_type": "code",
      "metadata": {
        "id": "MPrwfozTvr7g"
      },
      "source": [
        "percent_missing = df.isnull().sum() * 100 / len(df)\n",
        "missing_value_df = pd.DataFrame({'column_name': df.columns,\n",
        "                                 'percent_missing': percent_missing})"
      ],
      "execution_count": 9,
      "outputs": []
    },
    {
      "cell_type": "code",
      "metadata": {
        "colab": {
          "base_uri": "https://localhost:8080/",
          "height": 1000
        },
        "id": "3ao3T39Iz3Fg",
        "outputId": "e462f5bb-431e-47c1-aaf9-6fc610e50df8"
      },
      "source": [
        "missing_value_df"
      ],
      "execution_count": 10,
      "outputs": [
        {
          "output_type": "execute_result",
          "data": {
            "text/html": [
              "<div>\n",
              "<style scoped>\n",
              "    .dataframe tbody tr th:only-of-type {\n",
              "        vertical-align: middle;\n",
              "    }\n",
              "\n",
              "    .dataframe tbody tr th {\n",
              "        vertical-align: top;\n",
              "    }\n",
              "\n",
              "    .dataframe thead th {\n",
              "        text-align: right;\n",
              "    }\n",
              "</style>\n",
              "<table border=\"1\" class=\"dataframe\">\n",
              "  <thead>\n",
              "    <tr style=\"text-align: right;\">\n",
              "      <th></th>\n",
              "      <th>column_name</th>\n",
              "      <th>percent_missing</th>\n",
              "    </tr>\n",
              "  </thead>\n",
              "  <tbody>\n",
              "    <tr>\n",
              "      <th>id</th>\n",
              "      <td>id</td>\n",
              "      <td>0.00000</td>\n",
              "    </tr>\n",
              "    <tr>\n",
              "      <th>scholarshipAvailed</th>\n",
              "      <td>scholarshipAvailed</td>\n",
              "      <td>99.64375</td>\n",
              "    </tr>\n",
              "    <tr>\n",
              "      <th>age</th>\n",
              "      <td>age</td>\n",
              "      <td>0.00000</td>\n",
              "    </tr>\n",
              "    <tr>\n",
              "      <th>pincode</th>\n",
              "      <td>pincode</td>\n",
              "      <td>0.03125</td>\n",
              "    </tr>\n",
              "    <tr>\n",
              "      <th>hasAdhar</th>\n",
              "      <td>hasAdhar</td>\n",
              "      <td>0.00000</td>\n",
              "    </tr>\n",
              "    <tr>\n",
              "      <th>literacy</th>\n",
              "      <td>literacy</td>\n",
              "      <td>0.01250</td>\n",
              "    </tr>\n",
              "    <tr>\n",
              "      <th>hasEnrolledAdultLiteracy</th>\n",
              "      <td>hasEnrolledAdultLiteracy</td>\n",
              "      <td>66.93125</td>\n",
              "    </tr>\n",
              "    <tr>\n",
              "      <th>eduType</th>\n",
              "      <td>eduType</td>\n",
              "      <td>33.16875</td>\n",
              "    </tr>\n",
              "    <tr>\n",
              "      <th>eduInformal</th>\n",
              "      <td>eduInformal</td>\n",
              "      <td>98.48750</td>\n",
              "    </tr>\n",
              "    <tr>\n",
              "      <th>statusFormalEdu</th>\n",
              "      <td>statusFormalEdu</td>\n",
              "      <td>34.96250</td>\n",
              "    </tr>\n",
              "    <tr>\n",
              "      <th>eduOther</th>\n",
              "      <td>eduOther</td>\n",
              "      <td>99.55000</td>\n",
              "    </tr>\n",
              "    <tr>\n",
              "      <th>typeOfSchool</th>\n",
              "      <td>typeOfSchool</td>\n",
              "      <td>99.36875</td>\n",
              "    </tr>\n",
              "    <tr>\n",
              "      <th>noScholarshipReason</th>\n",
              "      <td>noScholarshipReason</td>\n",
              "      <td>99.85625</td>\n",
              "    </tr>\n",
              "    <tr>\n",
              "      <th>eduTransport</th>\n",
              "      <td>eduTransport</td>\n",
              "      <td>99.65625</td>\n",
              "    </tr>\n",
              "    <tr>\n",
              "      <th>isHeadOfFamily</th>\n",
              "      <td>isHeadOfFamily</td>\n",
              "      <td>0.51875</td>\n",
              "    </tr>\n",
              "    <tr>\n",
              "      <th>genderHeadOfFamily</th>\n",
              "      <td>genderHeadOfFamily</td>\n",
              "      <td>91.02500</td>\n",
              "    </tr>\n",
              "    <tr>\n",
              "      <th>relWithHeadOfFamily</th>\n",
              "      <td>relWithHeadOfFamily</td>\n",
              "      <td>91.02500</td>\n",
              "    </tr>\n",
              "    <tr>\n",
              "      <th>hasPDS</th>\n",
              "      <td>hasPDS</td>\n",
              "      <td>0.00000</td>\n",
              "    </tr>\n",
              "    <tr>\n",
              "      <th>hasSECC</th>\n",
              "      <td>hasSECC</td>\n",
              "      <td>4.75000</td>\n",
              "    </tr>\n",
              "    <tr>\n",
              "      <th>hasAyushmanBharat</th>\n",
              "      <td>hasAyushmanBharat</td>\n",
              "      <td>0.00000</td>\n",
              "    </tr>\n",
              "    <tr>\n",
              "      <th>hasLand</th>\n",
              "      <td>hasLand</td>\n",
              "      <td>0.01250</td>\n",
              "    </tr>\n",
              "    <tr>\n",
              "      <th>reasonLandless</th>\n",
              "      <td>reasonLandless</td>\n",
              "      <td>86.93125</td>\n",
              "    </tr>\n",
              "    <tr>\n",
              "      <th>hasHealthCert</th>\n",
              "      <td>hasHealthCert</td>\n",
              "      <td>0.00000</td>\n",
              "    </tr>\n",
              "    <tr>\n",
              "      <th>employmentType</th>\n",
              "      <td>employmentType</td>\n",
              "      <td>89.83750</td>\n",
              "    </tr>\n",
              "    <tr>\n",
              "      <th>isWageEarner</th>\n",
              "      <td>isWageEarner</td>\n",
              "      <td>89.85000</td>\n",
              "    </tr>\n",
              "    <tr>\n",
              "      <th>isSHGMember</th>\n",
              "      <td>isSHGMember</td>\n",
              "      <td>90.19375</td>\n",
              "    </tr>\n",
              "    <tr>\n",
              "      <th>isCooperativeMember</th>\n",
              "      <td>isCooperativeMember</td>\n",
              "      <td>90.19375</td>\n",
              "    </tr>\n",
              "    <tr>\n",
              "      <th>isFPOMember</th>\n",
              "      <td>isFPOMember</td>\n",
              "      <td>90.19375</td>\n",
              "    </tr>\n",
              "    <tr>\n",
              "      <th>noGroup</th>\n",
              "      <td>noGroup</td>\n",
              "      <td>90.19375</td>\n",
              "    </tr>\n",
              "    <tr>\n",
              "      <th>wageRecievedCOVID</th>\n",
              "      <td>wageRecievedCOVID</td>\n",
              "      <td>90.19375</td>\n",
              "    </tr>\n",
              "    <tr>\n",
              "      <th>liveLostCOVID</th>\n",
              "      <td>liveLostCOVID</td>\n",
              "      <td>99.78125</td>\n",
              "    </tr>\n",
              "    <tr>\n",
              "      <th>disabledCOVID</th>\n",
              "      <td>disabledCOVID</td>\n",
              "      <td>99.78125</td>\n",
              "    </tr>\n",
              "    <tr>\n",
              "      <th>illnessCOVID</th>\n",
              "      <td>illnessCOVID</td>\n",
              "      <td>99.78125</td>\n",
              "    </tr>\n",
              "    <tr>\n",
              "      <th>injuryCOVID</th>\n",
              "      <td>injuryCOVID</td>\n",
              "      <td>99.78125</td>\n",
              "    </tr>\n",
              "    <tr>\n",
              "      <th>movablePropLostCOVID</th>\n",
              "      <td>movablePropLostCOVID</td>\n",
              "      <td>99.78125</td>\n",
              "    </tr>\n",
              "    <tr>\n",
              "      <th>immovablePropLostCOVID</th>\n",
              "      <td>immovablePropLostCOVID</td>\n",
              "      <td>99.78125</td>\n",
              "    </tr>\n",
              "    <tr>\n",
              "      <th>interestedCertProgram</th>\n",
              "      <td>interestedCertProgram</td>\n",
              "      <td>92.37500</td>\n",
              "    </tr>\n",
              "    <tr>\n",
              "      <th>vocationCategory</th>\n",
              "      <td>vocationCategory</td>\n",
              "      <td>99.98750</td>\n",
              "    </tr>\n",
              "  </tbody>\n",
              "</table>\n",
              "</div>"
            ],
            "text/plain": [
              "                                       column_name  percent_missing\n",
              "id                                              id          0.00000\n",
              "scholarshipAvailed              scholarshipAvailed         99.64375\n",
              "age                                            age          0.00000\n",
              "pincode                                    pincode          0.03125\n",
              "hasAdhar                                  hasAdhar          0.00000\n",
              "literacy                                  literacy          0.01250\n",
              "hasEnrolledAdultLiteracy  hasEnrolledAdultLiteracy         66.93125\n",
              "eduType                                    eduType         33.16875\n",
              "eduInformal                            eduInformal         98.48750\n",
              "statusFormalEdu                    statusFormalEdu         34.96250\n",
              "eduOther                                  eduOther         99.55000\n",
              "typeOfSchool                          typeOfSchool         99.36875\n",
              "noScholarshipReason            noScholarshipReason         99.85625\n",
              "eduTransport                          eduTransport         99.65625\n",
              "isHeadOfFamily                      isHeadOfFamily          0.51875\n",
              "genderHeadOfFamily              genderHeadOfFamily         91.02500\n",
              "relWithHeadOfFamily            relWithHeadOfFamily         91.02500\n",
              "hasPDS                                      hasPDS          0.00000\n",
              "hasSECC                                    hasSECC          4.75000\n",
              "hasAyushmanBharat                hasAyushmanBharat          0.00000\n",
              "hasLand                                    hasLand          0.01250\n",
              "reasonLandless                      reasonLandless         86.93125\n",
              "hasHealthCert                        hasHealthCert          0.00000\n",
              "employmentType                      employmentType         89.83750\n",
              "isWageEarner                          isWageEarner         89.85000\n",
              "isSHGMember                            isSHGMember         90.19375\n",
              "isCooperativeMember            isCooperativeMember         90.19375\n",
              "isFPOMember                            isFPOMember         90.19375\n",
              "noGroup                                    noGroup         90.19375\n",
              "wageRecievedCOVID                wageRecievedCOVID         90.19375\n",
              "liveLostCOVID                        liveLostCOVID         99.78125\n",
              "disabledCOVID                        disabledCOVID         99.78125\n",
              "illnessCOVID                          illnessCOVID         99.78125\n",
              "injuryCOVID                            injuryCOVID         99.78125\n",
              "movablePropLostCOVID          movablePropLostCOVID         99.78125\n",
              "immovablePropLostCOVID      immovablePropLostCOVID         99.78125\n",
              "interestedCertProgram        interestedCertProgram         92.37500\n",
              "vocationCategory                  vocationCategory         99.98750"
            ]
          },
          "metadata": {
            "tags": []
          },
          "execution_count": 10
        }
      ]
    },
    {
      "cell_type": "code",
      "metadata": {
        "colab": {
          "base_uri": "https://localhost:8080/",
          "height": 35
        },
        "id": "0n-tswyQz4Nf",
        "outputId": "d6b3e990-5b16-4580-9448-7fe8f8cc4fad"
      },
      "source": [
        "'''we need to drop column \"id\" as it is just an index number and we will also drop the columns which have null values percentage greater than 90%'''"
      ],
      "execution_count": 11,
      "outputs": [
        {
          "output_type": "execute_result",
          "data": {
            "application/vnd.google.colaboratory.intrinsic+json": {
              "type": "string"
            },
            "text/plain": [
              "'we need to drop column \"id\" as it is just an index number and we will also drop the columns which have null values percentage greater than 90%'"
            ]
          },
          "metadata": {
            "tags": []
          },
          "execution_count": 11
        }
      ]
    },
    {
      "cell_type": "code",
      "metadata": {
        "id": "xbCaawBO1DJK"
      },
      "source": [
        "columnNameList=['id','eduInformal','eduOther','vocationCategory','interestedCertProgram','immovablePropLostCOVID','movablePropLostCOVID','injuryCOVID','illnessCOVID','disabledCOVID','liveLostCOVID',\n",
        "         'wageRecievedCOVID','noGroup','isFPOMember','isCooperativeMember','isSHGMember','isWageEarner','employmentType','reasonLandless','relWithHeadOfFamily','genderHeadOfFamily','eduTransport',\n",
        "         'noScholarshipReason','typeOfSchool','eduOther','eduInformal','hasEnrolledAdultLiteracy']"
      ],
      "execution_count": 12,
      "outputs": []
    },
    {
      "cell_type": "code",
      "metadata": {
        "id": "j9MnLtM34HOd"
      },
      "source": [
        "df.drop(columnNameList,axis=1,inplace=True)"
      ],
      "execution_count": 13,
      "outputs": []
    },
    {
      "cell_type": "code",
      "metadata": {
        "colab": {
          "base_uri": "https://localhost:8080/"
        },
        "id": "xBl7h-VR4Nzn",
        "outputId": "df4ce81e-c294-45b7-c799-f57e4f3f7cb2"
      },
      "source": [
        "df.shape"
      ],
      "execution_count": 14,
      "outputs": [
        {
          "output_type": "execute_result",
          "data": {
            "text/plain": [
              "(16000, 13)"
            ]
          },
          "metadata": {
            "tags": []
          },
          "execution_count": 14
        }
      ]
    },
    {
      "cell_type": "code",
      "metadata": {
        "id": "Uy9Kobu55acK"
      },
      "source": [
        "duplicate = df[df.duplicated()]"
      ],
      "execution_count": 15,
      "outputs": []
    },
    {
      "cell_type": "code",
      "metadata": {
        "colab": {
          "base_uri": "https://localhost:8080/",
          "height": 414
        },
        "id": "HdzacP_I5_jI",
        "outputId": "5bca9ef8-8a83-4241-c06d-396db18605f6"
      },
      "source": [
        "duplicate"
      ],
      "execution_count": 16,
      "outputs": [
        {
          "output_type": "execute_result",
          "data": {
            "text/html": [
              "<div>\n",
              "<style scoped>\n",
              "    .dataframe tbody tr th:only-of-type {\n",
              "        vertical-align: middle;\n",
              "    }\n",
              "\n",
              "    .dataframe tbody tr th {\n",
              "        vertical-align: top;\n",
              "    }\n",
              "\n",
              "    .dataframe thead th {\n",
              "        text-align: right;\n",
              "    }\n",
              "</style>\n",
              "<table border=\"1\" class=\"dataframe\">\n",
              "  <thead>\n",
              "    <tr style=\"text-align: right;\">\n",
              "      <th></th>\n",
              "      <th>scholarshipAvailed</th>\n",
              "      <th>age</th>\n",
              "      <th>pincode</th>\n",
              "      <th>hasAdhar</th>\n",
              "      <th>literacy</th>\n",
              "      <th>eduType</th>\n",
              "      <th>statusFormalEdu</th>\n",
              "      <th>isHeadOfFamily</th>\n",
              "      <th>hasPDS</th>\n",
              "      <th>hasSECC</th>\n",
              "      <th>hasAyushmanBharat</th>\n",
              "      <th>hasLand</th>\n",
              "      <th>hasHealthCert</th>\n",
              "    </tr>\n",
              "  </thead>\n",
              "  <tbody>\n",
              "    <tr>\n",
              "      <th>1</th>\n",
              "      <td>Not availed</td>\n",
              "      <td>28</td>\n",
              "      <td>700027.0</td>\n",
              "      <td>हाँ</td>\n",
              "      <td>Literate</td>\n",
              "      <td>Formal</td>\n",
              "      <td>Continuing</td>\n",
              "      <td>Yes</td>\n",
              "      <td>नही</td>\n",
              "      <td>नही</td>\n",
              "      <td>नही</td>\n",
              "      <td>हाँ</td>\n",
              "      <td>नहीं</td>\n",
              "    </tr>\n",
              "    <tr>\n",
              "      <th>2</th>\n",
              "      <td>Not availed</td>\n",
              "      <td>28</td>\n",
              "      <td>700027.0</td>\n",
              "      <td>हाँ</td>\n",
              "      <td>Literate</td>\n",
              "      <td>Formal</td>\n",
              "      <td>Continuing</td>\n",
              "      <td>Yes</td>\n",
              "      <td>नही</td>\n",
              "      <td>नही</td>\n",
              "      <td>नही</td>\n",
              "      <td>हाँ</td>\n",
              "      <td>नहीं</td>\n",
              "    </tr>\n",
              "    <tr>\n",
              "      <th>3</th>\n",
              "      <td>Not availed</td>\n",
              "      <td>28</td>\n",
              "      <td>700027.0</td>\n",
              "      <td>हाँ</td>\n",
              "      <td>Literate</td>\n",
              "      <td>Formal</td>\n",
              "      <td>Continuing</td>\n",
              "      <td>Yes</td>\n",
              "      <td>नही</td>\n",
              "      <td>नही</td>\n",
              "      <td>नही</td>\n",
              "      <td>हाँ</td>\n",
              "      <td>नहीं</td>\n",
              "    </tr>\n",
              "    <tr>\n",
              "      <th>4</th>\n",
              "      <td>Not availed</td>\n",
              "      <td>28</td>\n",
              "      <td>700027.0</td>\n",
              "      <td>हाँ</td>\n",
              "      <td>Literate</td>\n",
              "      <td>Formal</td>\n",
              "      <td>Continuing</td>\n",
              "      <td>Yes</td>\n",
              "      <td>नही</td>\n",
              "      <td>नही</td>\n",
              "      <td>नही</td>\n",
              "      <td>हाँ</td>\n",
              "      <td>नहीं</td>\n",
              "    </tr>\n",
              "    <tr>\n",
              "      <th>5</th>\n",
              "      <td>Not availed</td>\n",
              "      <td>28</td>\n",
              "      <td>700027.0</td>\n",
              "      <td>हाँ</td>\n",
              "      <td>Literate</td>\n",
              "      <td>Formal</td>\n",
              "      <td>Continuing</td>\n",
              "      <td>Yes</td>\n",
              "      <td>नही</td>\n",
              "      <td>नही</td>\n",
              "      <td>नही</td>\n",
              "      <td>हाँ</td>\n",
              "      <td>नहीं</td>\n",
              "    </tr>\n",
              "    <tr>\n",
              "      <th>...</th>\n",
              "      <td>...</td>\n",
              "      <td>...</td>\n",
              "      <td>...</td>\n",
              "      <td>...</td>\n",
              "      <td>...</td>\n",
              "      <td>...</td>\n",
              "      <td>...</td>\n",
              "      <td>...</td>\n",
              "      <td>...</td>\n",
              "      <td>...</td>\n",
              "      <td>...</td>\n",
              "      <td>...</td>\n",
              "      <td>...</td>\n",
              "    </tr>\n",
              "    <tr>\n",
              "      <th>15995</th>\n",
              "      <td>NaN</td>\n",
              "      <td>40</td>\n",
              "      <td>491441.0</td>\n",
              "      <td>हाँ</td>\n",
              "      <td>शिक्षित</td>\n",
              "      <td>औपचारिक</td>\n",
              "      <td>शिक्षा पूर्ण</td>\n",
              "      <td>हाँ</td>\n",
              "      <td>हाँ</td>\n",
              "      <td>नही</td>\n",
              "      <td>नही</td>\n",
              "      <td>हाँ</td>\n",
              "      <td>नहीं</td>\n",
              "    </tr>\n",
              "    <tr>\n",
              "      <th>15996</th>\n",
              "      <td>NaN</td>\n",
              "      <td>40</td>\n",
              "      <td>491441.0</td>\n",
              "      <td>हाँ</td>\n",
              "      <td>शिक्षित</td>\n",
              "      <td>औपचारिक</td>\n",
              "      <td>शिक्षा पूर्ण</td>\n",
              "      <td>हाँ</td>\n",
              "      <td>हाँ</td>\n",
              "      <td>नही</td>\n",
              "      <td>नही</td>\n",
              "      <td>हाँ</td>\n",
              "      <td>नहीं</td>\n",
              "    </tr>\n",
              "    <tr>\n",
              "      <th>15997</th>\n",
              "      <td>NaN</td>\n",
              "      <td>40</td>\n",
              "      <td>491441.0</td>\n",
              "      <td>हाँ</td>\n",
              "      <td>शिक्षित</td>\n",
              "      <td>औपचारिक</td>\n",
              "      <td>शिक्षा पूर्ण</td>\n",
              "      <td>हाँ</td>\n",
              "      <td>हाँ</td>\n",
              "      <td>नही</td>\n",
              "      <td>नही</td>\n",
              "      <td>हाँ</td>\n",
              "      <td>नहीं</td>\n",
              "    </tr>\n",
              "    <tr>\n",
              "      <th>15998</th>\n",
              "      <td>NaN</td>\n",
              "      <td>42</td>\n",
              "      <td>491441.0</td>\n",
              "      <td>हाँ</td>\n",
              "      <td>शिक्षित</td>\n",
              "      <td>औपचारिक</td>\n",
              "      <td>शिक्षा पूर्ण</td>\n",
              "      <td>हाँ</td>\n",
              "      <td>हाँ</td>\n",
              "      <td>नही</td>\n",
              "      <td>नही</td>\n",
              "      <td>हाँ</td>\n",
              "      <td>नहीं</td>\n",
              "    </tr>\n",
              "    <tr>\n",
              "      <th>15999</th>\n",
              "      <td>NaN</td>\n",
              "      <td>42</td>\n",
              "      <td>491441.0</td>\n",
              "      <td>हाँ</td>\n",
              "      <td>शिक्षित</td>\n",
              "      <td>औपचारिक</td>\n",
              "      <td>शिक्षा पूर्ण</td>\n",
              "      <td>हाँ</td>\n",
              "      <td>हाँ</td>\n",
              "      <td>नही</td>\n",
              "      <td>नही</td>\n",
              "      <td>हाँ</td>\n",
              "      <td>नहीं</td>\n",
              "    </tr>\n",
              "  </tbody>\n",
              "</table>\n",
              "<p>12350 rows × 13 columns</p>\n",
              "</div>"
            ],
            "text/plain": [
              "      scholarshipAvailed  age   pincode  ... hasAyushmanBharat hasLand hasHealthCert\n",
              "1            Not availed   28  700027.0  ...               नही     हाँ          नहीं\n",
              "2            Not availed   28  700027.0  ...               नही     हाँ          नहीं\n",
              "3            Not availed   28  700027.0  ...               नही     हाँ          नहीं\n",
              "4            Not availed   28  700027.0  ...               नही     हाँ          नहीं\n",
              "5            Not availed   28  700027.0  ...               नही     हाँ          नहीं\n",
              "...                  ...  ...       ...  ...               ...     ...           ...\n",
              "15995                NaN   40  491441.0  ...               नही     हाँ          नहीं\n",
              "15996                NaN   40  491441.0  ...               नही     हाँ          नहीं\n",
              "15997                NaN   40  491441.0  ...               नही     हाँ          नहीं\n",
              "15998                NaN   42  491441.0  ...               नही     हाँ          नहीं\n",
              "15999                NaN   42  491441.0  ...               नही     हाँ          नहीं\n",
              "\n",
              "[12350 rows x 13 columns]"
            ]
          },
          "metadata": {
            "tags": []
          },
          "execution_count": 16
        }
      ]
    },
    {
      "cell_type": "code",
      "metadata": {
        "id": "7CYYZCpX4Osj"
      },
      "source": [
        "#Removing the duplicate rows as it contributes none towards model building\n",
        "df.drop_duplicates(keep='first',inplace=True)"
      ],
      "execution_count": 17,
      "outputs": []
    },
    {
      "cell_type": "code",
      "metadata": {
        "colab": {
          "base_uri": "https://localhost:8080/"
        },
        "id": "OHv8SwsS6Ad5",
        "outputId": "397f5820-0ae6-4e84-d4da-09effcb9f36c"
      },
      "source": [
        "df.shape"
      ],
      "execution_count": 18,
      "outputs": [
        {
          "output_type": "execute_result",
          "data": {
            "text/plain": [
              "(3650, 13)"
            ]
          },
          "metadata": {
            "tags": []
          },
          "execution_count": 18
        }
      ]
    },
    {
      "cell_type": "code",
      "metadata": {
        "id": "3ny7h7OLB76C"
      },
      "source": [
        "l=df.loc[df['age']<0]\n",
        "df.drop(l,axis=0,inplace=True)"
      ],
      "execution_count": null,
      "outputs": []
    },
    {
      "cell_type": "code",
      "metadata": {
        "colab": {
          "base_uri": "https://localhost:8080/"
        },
        "id": "rCDKV0o664L1",
        "outputId": "75dd5a11-9102-438a-bb12-90c6ef4ed5fd"
      },
      "source": [
        "df.isnull().sum()"
      ],
      "execution_count": 19,
      "outputs": [
        {
          "output_type": "execute_result",
          "data": {
            "text/plain": [
              "scholarshipAvailed    3622\n",
              "age                      0\n",
              "pincode                  3\n",
              "hasAdhar                 0\n",
              "literacy                 2\n",
              "eduType               1305\n",
              "statusFormalEdu       1409\n",
              "isHeadOfFamily          22\n",
              "hasPDS                   0\n",
              "hasSECC                400\n",
              "hasAyushmanBharat        0\n",
              "hasLand                  2\n",
              "hasHealthCert            0\n",
              "dtype: int64"
            ]
          },
          "metadata": {
            "tags": []
          },
          "execution_count": 19
        }
      ]
    },
    {
      "cell_type": "code",
      "metadata": {
        "colab": {
          "base_uri": "https://localhost:8080/"
        },
        "id": "YmkkslVH68Uw",
        "outputId": "e7745184-099a-4d12-e471-cdcaf66b55ff"
      },
      "source": [
        "df.info()"
      ],
      "execution_count": 20,
      "outputs": [
        {
          "output_type": "stream",
          "text": [
            "<class 'pandas.core.frame.DataFrame'>\n",
            "Int64Index: 3650 entries, 0 to 15924\n",
            "Data columns (total 13 columns):\n",
            " #   Column              Non-Null Count  Dtype  \n",
            "---  ------              --------------  -----  \n",
            " 0   scholarshipAvailed  28 non-null     object \n",
            " 1   age                 3650 non-null   int64  \n",
            " 2   pincode             3647 non-null   float64\n",
            " 3   hasAdhar            3650 non-null   object \n",
            " 4   literacy            3648 non-null   object \n",
            " 5   eduType             2345 non-null   object \n",
            " 6   statusFormalEdu     2241 non-null   object \n",
            " 7   isHeadOfFamily      3628 non-null   object \n",
            " 8   hasPDS              3650 non-null   object \n",
            " 9   hasSECC             3250 non-null   object \n",
            " 10  hasAyushmanBharat   3650 non-null   object \n",
            " 11  hasLand             3648 non-null   object \n",
            " 12  hasHealthCert       3650 non-null   object \n",
            "dtypes: float64(1), int64(1), object(11)\n",
            "memory usage: 399.2+ KB\n"
          ],
          "name": "stdout"
        }
      ]
    },
    {
      "cell_type": "code",
      "metadata": {
        "colab": {
          "base_uri": "https://localhost:8080/",
          "height": 294
        },
        "id": "oMlPLIjP91CG",
        "outputId": "44a811cc-8a79-435d-8b7b-056935dd421f"
      },
      "source": [
        "df.describe()"
      ],
      "execution_count": 21,
      "outputs": [
        {
          "output_type": "execute_result",
          "data": {
            "text/html": [
              "<div>\n",
              "<style scoped>\n",
              "    .dataframe tbody tr th:only-of-type {\n",
              "        vertical-align: middle;\n",
              "    }\n",
              "\n",
              "    .dataframe tbody tr th {\n",
              "        vertical-align: top;\n",
              "    }\n",
              "\n",
              "    .dataframe thead th {\n",
              "        text-align: right;\n",
              "    }\n",
              "</style>\n",
              "<table border=\"1\" class=\"dataframe\">\n",
              "  <thead>\n",
              "    <tr style=\"text-align: right;\">\n",
              "      <th></th>\n",
              "      <th>age</th>\n",
              "      <th>pincode</th>\n",
              "    </tr>\n",
              "  </thead>\n",
              "  <tbody>\n",
              "    <tr>\n",
              "      <th>count</th>\n",
              "      <td>3650.000000</td>\n",
              "      <td>3647.000000</td>\n",
              "    </tr>\n",
              "    <tr>\n",
              "      <th>mean</th>\n",
              "      <td>36.143014</td>\n",
              "      <td>492766.695640</td>\n",
              "    </tr>\n",
              "    <tr>\n",
              "      <th>std</th>\n",
              "      <td>21.691321</td>\n",
              "      <td>38442.843088</td>\n",
              "    </tr>\n",
              "    <tr>\n",
              "      <th>min</th>\n",
              "      <td>-965.000000</td>\n",
              "      <td>1222.000000</td>\n",
              "    </tr>\n",
              "    <tr>\n",
              "      <th>25%</th>\n",
              "      <td>26.000000</td>\n",
              "      <td>491441.000000</td>\n",
              "    </tr>\n",
              "    <tr>\n",
              "      <th>50%</th>\n",
              "      <td>33.000000</td>\n",
              "      <td>494334.000000</td>\n",
              "    </tr>\n",
              "    <tr>\n",
              "      <th>75%</th>\n",
              "      <td>45.000000</td>\n",
              "      <td>495677.000000</td>\n",
              "    </tr>\n",
              "    <tr>\n",
              "      <th>max</th>\n",
              "      <td>106.000000</td>\n",
              "      <td>979889.000000</td>\n",
              "    </tr>\n",
              "  </tbody>\n",
              "</table>\n",
              "</div>"
            ],
            "text/plain": [
              "               age        pincode\n",
              "count  3650.000000    3647.000000\n",
              "mean     36.143014  492766.695640\n",
              "std      21.691321   38442.843088\n",
              "min    -965.000000    1222.000000\n",
              "25%      26.000000  491441.000000\n",
              "50%      33.000000  494334.000000\n",
              "75%      45.000000  495677.000000\n",
              "max     106.000000  979889.000000"
            ]
          },
          "metadata": {
            "tags": []
          },
          "execution_count": 21
        }
      ]
    },
    {
      "cell_type": "code",
      "metadata": {
        "id": "jQgAAfyb93k2"
      },
      "source": [
        "df_cat=df[df.columns[np.where(df.dtypes=='object')]]"
      ],
      "execution_count": 54,
      "outputs": []
    },
    {
      "cell_type": "code",
      "metadata": {
        "colab": {
          "base_uri": "https://localhost:8080/"
        },
        "id": "MBhKi4xyiqFh",
        "outputId": "370ad433-eeac-4171-d942-562538f08188"
      },
      "source": [
        "df_cat.columns"
      ],
      "execution_count": 55,
      "outputs": [
        {
          "output_type": "execute_result",
          "data": {
            "text/plain": [
              "Index(['scholarshipAvailed', 'hasAdhar', 'literacy', 'eduType',\n",
              "       'statusFormalEdu', 'isHeadOfFamily', 'hasPDS', 'hasSECC',\n",
              "       'hasAyushmanBharat', 'hasLand', 'hasHealthCert'],\n",
              "      dtype='object')"
            ]
          },
          "metadata": {
            "tags": []
          },
          "execution_count": 55
        }
      ]
    },
    {
      "cell_type": "code",
      "metadata": {
        "colab": {
          "base_uri": "https://localhost:8080/"
        },
        "id": "Cc5Nq6HClNeG",
        "outputId": "e5d49ee3-6636-4b52-daad-8cb783563aba"
      },
      "source": [
        "df['scholarshipAvailed']"
      ],
      "execution_count": 56,
      "outputs": [
        {
          "output_type": "execute_result",
          "data": {
            "text/plain": [
              "0        Not availed\n",
              "7                NaN\n",
              "8                NaN\n",
              "9                NaN\n",
              "11               NaN\n",
              "            ...     \n",
              "15768            NaN\n",
              "15786            NaN\n",
              "15856            NaN\n",
              "15896            NaN\n",
              "15924            NaN\n",
              "Name: scholarshipAvailed, Length: 3650, dtype: object"
            ]
          },
          "metadata": {
            "tags": []
          },
          "execution_count": 56
        }
      ]
    },
    {
      "cell_type": "code",
      "metadata": {
        "colab": {
          "base_uri": "https://localhost:8080/"
        },
        "id": "RsGt7xzAnASQ",
        "outputId": "8d305675-7629-4b9b-f377-24d89c9ccada"
      },
      "source": [
        "df_cat['scholarshipAvailed'].value_counts()"
      ],
      "execution_count": 58,
      "outputs": [
        {
          "output_type": "execute_result",
          "data": {
            "text/plain": [
              "हाँ            14\n",
              "नही            11\n",
              "Not availed     2\n",
              "नहीं            1\n",
              "Name: scholarshipAvailed, dtype: int64"
            ]
          },
          "metadata": {
            "tags": []
          },
          "execution_count": 58
        }
      ]
    },
    {
      "cell_type": "code",
      "metadata": {
        "colab": {
          "base_uri": "https://localhost:8080/"
        },
        "id": "rfCMqwHXoXE6",
        "outputId": "5be3d2bd-e282-4bec-d1c5-59f93ea511f7"
      },
      "source": [
        "for c in df_cat.columns:\n",
        "    print(\"---- %s ---\"%c)\n",
        "    print(df_cat[c].value_counts())"
      ],
      "execution_count": 62,
      "outputs": [
        {
          "output_type": "stream",
          "text": [
            "---- scholarshipAvailed ---\n",
            "हाँ            14\n",
            "नही            11\n",
            "Not availed     2\n",
            "नहीं            1\n",
            "Name: scholarshipAvailed, dtype: int64\n",
            "---- hasAdhar ---\n",
            "हाँ    3526\n",
            "नही     124\n",
            "Name: hasAdhar, dtype: int64\n",
            "---- literacy ---\n",
            "शिक्षित       2310\n",
            "अशिक्षित      1291\n",
            "Literate        38\n",
            "Illiterate       9\n",
            "Name: literacy, dtype: int64\n",
            "---- eduType ---\n",
            "औपचारिक      2209\n",
            "अनौपचारिक      95\n",
            "Formal         33\n",
            "#NAME?          5\n",
            "Informal        3\n",
            "Name: eduType, dtype: int64\n",
            "---- statusFormalEdu ---\n",
            "शिक्षा पूर्ण          2122\n",
            "जारी है                 77\n",
            "Finished Education      27\n",
            "--- चुनिए ---            9\n",
            "Dropout                  4\n",
            "Continuing               2\n",
            "Name: statusFormalEdu, dtype: int64\n",
            "---- isHeadOfFamily ---\n",
            "हाँ     2856\n",
            "नही      597\n",
            "नहीं     128\n",
            "Yes       32\n",
            "No        15\n",
            "Name: isHeadOfFamily, dtype: int64\n",
            "---- hasPDS ---\n",
            "हाँ     2148\n",
            "नही     1290\n",
            "नहीं     212\n",
            "Name: hasPDS, dtype: int64\n",
            "---- hasSECC ---\n",
            "नही              2959\n",
            "नंबर नहीं पता     266\n",
            "नहीं               19\n",
            "हाँ                 6\n",
            "Name: hasSECC, dtype: int64\n",
            "---- hasAyushmanBharat ---\n",
            "नही              2491\n",
            "नंबर नहीं पता     562\n",
            "नहीं              344\n",
            "हाँ               253\n",
            "Name: hasAyushmanBharat, dtype: int64\n",
            "---- hasLand ---\n",
            "नहीं    2509\n",
            "हाँ     1137\n",
            "Yes        2\n",
            "Name: hasLand, dtype: int64\n",
            "---- hasHealthCert ---\n",
            "नहीं         3225\n",
            "हाँ           421\n",
            "नहीं/नंबर       4\n",
            "Name: hasHealthCert, dtype: int64\n"
          ],
          "name": "stdout"
        }
      ]
    },
    {
      "cell_type": "code",
      "metadata": {
        "colab": {
          "base_uri": "https://localhost:8080/"
        },
        "id": "Db5yIEvmrEeg",
        "outputId": "51659afa-02e7-45ec-9296-bd867d7198cb"
      },
      "source": [
        "len(df_cat.columns)"
      ],
      "execution_count": 63,
      "outputs": [
        {
          "output_type": "execute_result",
          "data": {
            "text/plain": [
              "11"
            ]
          },
          "metadata": {
            "tags": []
          },
          "execution_count": 63
        }
      ]
    },
    {
      "cell_type": "code",
      "metadata": {
        "id": "pBWS1oEkrZbJ"
      },
      "source": [
        "df_cat=df_cat.replace({'scholarshipAvailed':{'हाँ':'availed','नही':'Not availed','नहीं':'Not availed'},\n",
        "            'hasAdhar':{'हाँ':'Yes','नही':'No'},\n",
        "            'literacy':{'शिक्षित':'Literate','अशिक्षित':'Illiterate'},\n",
        "            'eduType':{'औपचारिक':'Formal','अनौपचारिक':'Informal','#NAME?':'Informal'},\n",
        "            'statusFormalEdu':{'शिक्षा पूर्ण':'Finished Education','जारी है':'Continuing','--- चुनिए ---':'Continuing'},\n",
        "            'isHeadOfFamily':{'हाँ':'Yes','नही':'No','नहीं':'No'},\n",
        "            'hasPDS':{'हाँ':'Yes','नही':'No','नहीं':'No'},\n",
        "            'hasSECC':{'नही':'No','नंबर नहीं पता':'Unknown Number','नहीं':'No','हाँ':'Yes'},\n",
        "            'hasAyushmanBharat':{'नही':'No','नंबर नहीं पता':'Unknown','नहीं':'No','हाँ':'Yes'},\n",
        "            'hasLand':{'नहीं':'No','हाँ':'Yes'},\n",
        "            'hasHealthCert':{'नहीं':'No','हाँ':'Yes','नहीं/नंबर':'Unknown'}})\n"
      ],
      "execution_count": 81,
      "outputs": []
    },
    {
      "cell_type": "code",
      "metadata": {
        "colab": {
          "base_uri": "https://localhost:8080/"
        },
        "id": "znrdu_bJxOHQ",
        "outputId": "194f6f70-7b14-434d-8f46-f54612cd02c3"
      },
      "source": [
        "for c in df_cat.columns:\n",
        "    print(\"---- %s ---\"%c)\n",
        "    print(df_cat[c].value_counts())"
      ],
      "execution_count": 82,
      "outputs": [
        {
          "output_type": "stream",
          "text": [
            "---- scholarshipAvailed ---\n",
            "Not availed    14\n",
            "availed        14\n",
            "Name: scholarshipAvailed, dtype: int64\n",
            "---- hasAdhar ---\n",
            "Yes    3526\n",
            "No      124\n",
            "Name: hasAdhar, dtype: int64\n",
            "---- literacy ---\n",
            "Literate      2348\n",
            "Illiterate    1300\n",
            "Name: literacy, dtype: int64\n",
            "---- eduType ---\n",
            "Formal      2242\n",
            "Informal     103\n",
            "Name: eduType, dtype: int64\n",
            "---- statusFormalEdu ---\n",
            "Finished Education    2149\n",
            "Continuing              88\n",
            "Dropout                  4\n",
            "Name: statusFormalEdu, dtype: int64\n",
            "---- isHeadOfFamily ---\n",
            "Yes    2888\n",
            "No      740\n",
            "Name: isHeadOfFamily, dtype: int64\n",
            "---- hasPDS ---\n",
            "Yes    2148\n",
            "No     1502\n",
            "Name: hasPDS, dtype: int64\n",
            "---- hasSECC ---\n",
            "No                2978\n",
            "Unknown Number     266\n",
            "Yes                  6\n",
            "Name: hasSECC, dtype: int64\n",
            "---- hasAyushmanBharat ---\n",
            "No         2835\n",
            "Unknown     562\n",
            "Yes         253\n",
            "Name: hasAyushmanBharat, dtype: int64\n",
            "---- hasLand ---\n",
            "No     2509\n",
            "Yes    1139\n",
            "Name: hasLand, dtype: int64\n",
            "---- hasHealthCert ---\n",
            "No         3225\n",
            "Yes         421\n",
            "Unknown       4\n",
            "Name: hasHealthCert, dtype: int64\n"
          ],
          "name": "stdout"
        }
      ]
    },
    {
      "cell_type": "code",
      "metadata": {
        "colab": {
          "base_uri": "https://localhost:8080/"
        },
        "id": "N-0lokBi2JfZ",
        "outputId": "311dc7ac-a695-4265-dd64-6c6655ea0164"
      },
      "source": [
        "df['pincode'].value_counts()"
      ],
      "execution_count": 87,
      "outputs": [
        {
          "output_type": "execute_result",
          "data": {
            "text/plain": [
              "491441.0    584\n",
              "496450.0    162\n",
              "496001.0    144\n",
              "494449.0    113\n",
              "497225.0     96\n",
              "           ... \n",
              "494650.0      1\n",
              "494635.0      1\n",
              "492101.0      1\n",
              "595113.0      1\n",
              "492009.0      1\n",
              "Name: pincode, Length: 319, dtype: int64"
            ]
          },
          "metadata": {
            "tags": []
          },
          "execution_count": 87
        }
      ]
    },
    {
      "cell_type": "code",
      "metadata": {
        "colab": {
          "base_uri": "https://localhost:8080/"
        },
        "id": "qAQ1fffuFqRT",
        "outputId": "832f7087-23fa-41c9-d7ff-3b37cfbba6d2"
      },
      "source": [
        "!pip install geopandas\n",
        "!pip install geopy"
      ],
      "execution_count": 89,
      "outputs": [
        {
          "output_type": "stream",
          "text": [
            "Collecting geopandas\n",
            "  Downloading geopandas-0.9.0-py2.py3-none-any.whl (994 kB)\n",
            "\u001b[K     |████████████████████████████████| 994 kB 5.0 MB/s \n",
            "\u001b[?25hCollecting fiona>=1.8\n",
            "  Downloading Fiona-1.8.20-cp37-cp37m-manylinux1_x86_64.whl (15.4 MB)\n",
            "\u001b[K     |████████████████████████████████| 15.4 MB 33 kB/s \n",
            "\u001b[?25hRequirement already satisfied: pandas>=0.24.0 in /usr/local/lib/python3.7/dist-packages (from geopandas) (1.1.5)\n",
            "Collecting pyproj>=2.2.0\n",
            "  Downloading pyproj-3.1.0-cp37-cp37m-manylinux2010_x86_64.whl (6.6 MB)\n",
            "\u001b[K     |████████████████████████████████| 6.6 MB 47.0 MB/s \n",
            "\u001b[?25hRequirement already satisfied: shapely>=1.6 in /usr/local/lib/python3.7/dist-packages (from geopandas) (1.7.1)\n",
            "Requirement already satisfied: click>=4.0 in /usr/local/lib/python3.7/dist-packages (from fiona>=1.8->geopandas) (7.1.2)\n",
            "Requirement already satisfied: six>=1.7 in /usr/local/lib/python3.7/dist-packages (from fiona>=1.8->geopandas) (1.15.0)\n",
            "Requirement already satisfied: attrs>=17 in /usr/local/lib/python3.7/dist-packages (from fiona>=1.8->geopandas) (21.2.0)\n",
            "Requirement already satisfied: certifi in /usr/local/lib/python3.7/dist-packages (from fiona>=1.8->geopandas) (2021.5.30)\n",
            "Collecting cligj>=0.5\n",
            "  Downloading cligj-0.7.2-py3-none-any.whl (7.1 kB)\n",
            "Requirement already satisfied: setuptools in /usr/local/lib/python3.7/dist-packages (from fiona>=1.8->geopandas) (57.2.0)\n",
            "Collecting click-plugins>=1.0\n",
            "  Downloading click_plugins-1.1.1-py2.py3-none-any.whl (7.5 kB)\n",
            "Collecting munch\n",
            "  Downloading munch-2.5.0-py2.py3-none-any.whl (10 kB)\n",
            "Requirement already satisfied: pytz>=2017.2 in /usr/local/lib/python3.7/dist-packages (from pandas>=0.24.0->geopandas) (2018.9)\n",
            "Requirement already satisfied: numpy>=1.15.4 in /usr/local/lib/python3.7/dist-packages (from pandas>=0.24.0->geopandas) (1.19.5)\n",
            "Requirement already satisfied: python-dateutil>=2.7.3 in /usr/local/lib/python3.7/dist-packages (from pandas>=0.24.0->geopandas) (2.8.1)\n",
            "Installing collected packages: munch, cligj, click-plugins, pyproj, fiona, geopandas\n",
            "Successfully installed click-plugins-1.1.1 cligj-0.7.2 fiona-1.8.20 geopandas-0.9.0 munch-2.5.0 pyproj-3.1.0\n",
            "Requirement already satisfied: geopy in /usr/local/lib/python3.7/dist-packages (1.17.0)\n",
            "Requirement already satisfied: geographiclib<2,>=1.49 in /usr/local/lib/python3.7/dist-packages (from geopy) (1.52)\n"
          ],
          "name": "stdout"
        }
      ]
    },
    {
      "cell_type": "code",
      "metadata": {
        "id": "woRWo4TaHMY_"
      },
      "source": [
        "df_cat['age']=df['age']\n",
        "df_cat['pincode']=df['pincode']"
      ],
      "execution_count": 90,
      "outputs": []
    },
    {
      "cell_type": "code",
      "metadata": {
        "colab": {
          "base_uri": "https://localhost:8080/",
          "height": 414
        },
        "id": "KaS1VcnijRWS",
        "outputId": "95ae3122-5b8d-4d48-9254-cc84ad4ed4a1"
      },
      "source": [
        "df_cat"
      ],
      "execution_count": 91,
      "outputs": [
        {
          "output_type": "execute_result",
          "data": {
            "text/html": [
              "<div>\n",
              "<style scoped>\n",
              "    .dataframe tbody tr th:only-of-type {\n",
              "        vertical-align: middle;\n",
              "    }\n",
              "\n",
              "    .dataframe tbody tr th {\n",
              "        vertical-align: top;\n",
              "    }\n",
              "\n",
              "    .dataframe thead th {\n",
              "        text-align: right;\n",
              "    }\n",
              "</style>\n",
              "<table border=\"1\" class=\"dataframe\">\n",
              "  <thead>\n",
              "    <tr style=\"text-align: right;\">\n",
              "      <th></th>\n",
              "      <th>scholarshipAvailed</th>\n",
              "      <th>hasAdhar</th>\n",
              "      <th>literacy</th>\n",
              "      <th>eduType</th>\n",
              "      <th>statusFormalEdu</th>\n",
              "      <th>isHeadOfFamily</th>\n",
              "      <th>hasPDS</th>\n",
              "      <th>hasSECC</th>\n",
              "      <th>hasAyushmanBharat</th>\n",
              "      <th>hasLand</th>\n",
              "      <th>hasHealthCert</th>\n",
              "      <th>age</th>\n",
              "      <th>pincode</th>\n",
              "    </tr>\n",
              "  </thead>\n",
              "  <tbody>\n",
              "    <tr>\n",
              "      <th>0</th>\n",
              "      <td>Not availed</td>\n",
              "      <td>Yes</td>\n",
              "      <td>Literate</td>\n",
              "      <td>Formal</td>\n",
              "      <td>Continuing</td>\n",
              "      <td>Yes</td>\n",
              "      <td>No</td>\n",
              "      <td>No</td>\n",
              "      <td>No</td>\n",
              "      <td>Yes</td>\n",
              "      <td>No</td>\n",
              "      <td>28</td>\n",
              "      <td>700027.0</td>\n",
              "    </tr>\n",
              "    <tr>\n",
              "      <th>7</th>\n",
              "      <td>NaN</td>\n",
              "      <td>No</td>\n",
              "      <td>Illiterate</td>\n",
              "      <td>NaN</td>\n",
              "      <td>NaN</td>\n",
              "      <td>Yes</td>\n",
              "      <td>No</td>\n",
              "      <td>No</td>\n",
              "      <td>No</td>\n",
              "      <td>No</td>\n",
              "      <td>No</td>\n",
              "      <td>1</td>\n",
              "      <td>700027.0</td>\n",
              "    </tr>\n",
              "    <tr>\n",
              "      <th>8</th>\n",
              "      <td>NaN</td>\n",
              "      <td>Yes</td>\n",
              "      <td>Literate</td>\n",
              "      <td>Formal</td>\n",
              "      <td>Finished Education</td>\n",
              "      <td>Yes</td>\n",
              "      <td>No</td>\n",
              "      <td>No</td>\n",
              "      <td>No</td>\n",
              "      <td>No</td>\n",
              "      <td>No</td>\n",
              "      <td>30</td>\n",
              "      <td>490024.0</td>\n",
              "    </tr>\n",
              "    <tr>\n",
              "      <th>9</th>\n",
              "      <td>NaN</td>\n",
              "      <td>Yes</td>\n",
              "      <td>Literate</td>\n",
              "      <td>Formal</td>\n",
              "      <td>Finished Education</td>\n",
              "      <td>Yes</td>\n",
              "      <td>No</td>\n",
              "      <td>No</td>\n",
              "      <td>No</td>\n",
              "      <td>Yes</td>\n",
              "      <td>No</td>\n",
              "      <td>30</td>\n",
              "      <td>490024.0</td>\n",
              "    </tr>\n",
              "    <tr>\n",
              "      <th>11</th>\n",
              "      <td>NaN</td>\n",
              "      <td>No</td>\n",
              "      <td>Illiterate</td>\n",
              "      <td>NaN</td>\n",
              "      <td>NaN</td>\n",
              "      <td>No</td>\n",
              "      <td>No</td>\n",
              "      <td>No</td>\n",
              "      <td>No</td>\n",
              "      <td>Yes</td>\n",
              "      <td>No</td>\n",
              "      <td>41</td>\n",
              "      <td>494670.0</td>\n",
              "    </tr>\n",
              "    <tr>\n",
              "      <th>...</th>\n",
              "      <td>...</td>\n",
              "      <td>...</td>\n",
              "      <td>...</td>\n",
              "      <td>...</td>\n",
              "      <td>...</td>\n",
              "      <td>...</td>\n",
              "      <td>...</td>\n",
              "      <td>...</td>\n",
              "      <td>...</td>\n",
              "      <td>...</td>\n",
              "      <td>...</td>\n",
              "      <td>...</td>\n",
              "      <td>...</td>\n",
              "    </tr>\n",
              "    <tr>\n",
              "      <th>15768</th>\n",
              "      <td>NaN</td>\n",
              "      <td>Yes</td>\n",
              "      <td>Literate</td>\n",
              "      <td>Formal</td>\n",
              "      <td>Finished Education</td>\n",
              "      <td>Yes</td>\n",
              "      <td>Yes</td>\n",
              "      <td>No</td>\n",
              "      <td>No</td>\n",
              "      <td>Yes</td>\n",
              "      <td>No</td>\n",
              "      <td>80</td>\n",
              "      <td>491441.0</td>\n",
              "    </tr>\n",
              "    <tr>\n",
              "      <th>15786</th>\n",
              "      <td>NaN</td>\n",
              "      <td>Yes</td>\n",
              "      <td>Literate</td>\n",
              "      <td>Formal</td>\n",
              "      <td>Finished Education</td>\n",
              "      <td>Yes</td>\n",
              "      <td>Yes</td>\n",
              "      <td>No</td>\n",
              "      <td>Unknown</td>\n",
              "      <td>Yes</td>\n",
              "      <td>No</td>\n",
              "      <td>41</td>\n",
              "      <td>491441.0</td>\n",
              "    </tr>\n",
              "    <tr>\n",
              "      <th>15856</th>\n",
              "      <td>NaN</td>\n",
              "      <td>Yes</td>\n",
              "      <td>Literate</td>\n",
              "      <td>Informal</td>\n",
              "      <td>NaN</td>\n",
              "      <td>Yes</td>\n",
              "      <td>Yes</td>\n",
              "      <td>No</td>\n",
              "      <td>No</td>\n",
              "      <td>Yes</td>\n",
              "      <td>No</td>\n",
              "      <td>47</td>\n",
              "      <td>491441.0</td>\n",
              "    </tr>\n",
              "    <tr>\n",
              "      <th>15896</th>\n",
              "      <td>NaN</td>\n",
              "      <td>Yes</td>\n",
              "      <td>Literate</td>\n",
              "      <td>Formal</td>\n",
              "      <td>Finished Education</td>\n",
              "      <td>Yes</td>\n",
              "      <td>Yes</td>\n",
              "      <td>No</td>\n",
              "      <td>No</td>\n",
              "      <td>No</td>\n",
              "      <td>No</td>\n",
              "      <td>56</td>\n",
              "      <td>491441.0</td>\n",
              "    </tr>\n",
              "    <tr>\n",
              "      <th>15924</th>\n",
              "      <td>NaN</td>\n",
              "      <td>Yes</td>\n",
              "      <td>Illiterate</td>\n",
              "      <td>NaN</td>\n",
              "      <td>NaN</td>\n",
              "      <td>Yes</td>\n",
              "      <td>No</td>\n",
              "      <td>Unknown Number</td>\n",
              "      <td>No</td>\n",
              "      <td>Yes</td>\n",
              "      <td>No</td>\n",
              "      <td>67</td>\n",
              "      <td>491441.0</td>\n",
              "    </tr>\n",
              "  </tbody>\n",
              "</table>\n",
              "<p>3650 rows × 13 columns</p>\n",
              "</div>"
            ],
            "text/plain": [
              "      scholarshipAvailed hasAdhar    literacy  ... hasHealthCert age   pincode\n",
              "0            Not availed      Yes    Literate  ...            No  28  700027.0\n",
              "7                    NaN       No  Illiterate  ...            No   1  700027.0\n",
              "8                    NaN      Yes    Literate  ...            No  30  490024.0\n",
              "9                    NaN      Yes    Literate  ...            No  30  490024.0\n",
              "11                   NaN       No  Illiterate  ...            No  41  494670.0\n",
              "...                  ...      ...         ...  ...           ...  ..       ...\n",
              "15768                NaN      Yes    Literate  ...            No  80  491441.0\n",
              "15786                NaN      Yes    Literate  ...            No  41  491441.0\n",
              "15856                NaN      Yes    Literate  ...            No  47  491441.0\n",
              "15896                NaN      Yes    Literate  ...            No  56  491441.0\n",
              "15924                NaN      Yes  Illiterate  ...            No  67  491441.0\n",
              "\n",
              "[3650 rows x 13 columns]"
            ]
          },
          "metadata": {
            "tags": []
          },
          "execution_count": 91
        }
      ]
    },
    {
      "cell_type": "code",
      "metadata": {
        "id": "_6jqi9HxjSXS"
      },
      "source": [
        "from sklearn.impute import KNNImputer\n",
        "from sklearn_pandas import CategoricalImputer"
      ],
      "execution_count": 92,
      "outputs": []
    },
    {
      "cell_type": "code",
      "metadata": {
        "id": "F_3U-u0ij4aZ"
      },
      "source": [
        "imputer = CategoricalImputer()"
      ],
      "execution_count": 93,
      "outputs": []
    },
    {
      "cell_type": "code",
      "metadata": {
        "id": "ww0yReTskNcg"
      },
      "source": [
        "cols_with_missing_values=['literacy','eduType','statusFormalEdu','isHeadOfFamily','hasSECC','hasLand']"
      ],
      "execution_count": 100,
      "outputs": []
    },
    {
      "cell_type": "code",
      "metadata": {
        "id": "Mjrj1PL0j8pi"
      },
      "source": [
        "for col in cols_with_missing_values:\n",
        "                df_cat[col] = imputer.fit_transform(df_cat[col])"
      ],
      "execution_count": 101,
      "outputs": []
    },
    {
      "cell_type": "code",
      "metadata": {
        "id": "IohdJIhKksbG"
      },
      "source": [
        "df_cat['scholarshipAvailed'].fillna('Not availed',inplace=True)"
      ],
      "execution_count": 105,
      "outputs": []
    },
    {
      "cell_type": "code",
      "metadata": {
        "id": "K57cCeIpk8V4"
      },
      "source": [
        "df_cat['pincode'].fillna(491441.0,inplace=True)"
      ],
      "execution_count": 107,
      "outputs": []
    },
    {
      "cell_type": "code",
      "metadata": {
        "id": "GO2A5Q1Zm6Wp"
      },
      "source": [
        "df_cat['pincode']=df_cat['pincode'].astype(int)"
      ],
      "execution_count": 110,
      "outputs": []
    },
    {
      "cell_type": "code",
      "metadata": {
        "colab": {
          "base_uri": "https://localhost:8080/"
        },
        "id": "xaa9NYIUnl1v",
        "outputId": "bae5656d-7340-405d-d1e5-406f3cbdaf39"
      },
      "source": [
        "df_cat.isnull().sum()"
      ],
      "execution_count": 111,
      "outputs": [
        {
          "output_type": "execute_result",
          "data": {
            "text/plain": [
              "scholarshipAvailed    0\n",
              "hasAdhar              0\n",
              "literacy              0\n",
              "eduType               0\n",
              "statusFormalEdu       0\n",
              "isHeadOfFamily        0\n",
              "hasPDS                0\n",
              "hasSECC               0\n",
              "hasAyushmanBharat     0\n",
              "hasLand               0\n",
              "hasHealthCert         0\n",
              "age                   0\n",
              "pincode               0\n",
              "dtype: int64"
            ]
          },
          "metadata": {
            "tags": []
          },
          "execution_count": 111
        }
      ]
    },
    {
      "cell_type": "code",
      "metadata": {
        "id": "NFb-PTHDn1ui"
      },
      "source": [
        "df_cat[\"scholarshipAvailed\"] = df_cat[\"scholarshipAvailed\"].map({'availed': 1, 'Not availed': 2})\n",
        "for column in df_cat.drop(['scholarshipAvailed','age','pincode'],axis=1).columns:\n",
        "            df_cat = pd.get_dummies(df_cat, columns=[column],drop_first=True)"
      ],
      "execution_count": 113,
      "outputs": []
    },
    {
      "cell_type": "code",
      "metadata": {
        "colab": {
          "base_uri": "https://localhost:8080/",
          "height": 456
        },
        "id": "0vWCgA6noN67",
        "outputId": "25cc31b8-e67c-4f81-f21f-c494f24e1ba5"
      },
      "source": [
        "df_cat"
      ],
      "execution_count": 114,
      "outputs": [
        {
          "output_type": "execute_result",
          "data": {
            "text/html": [
              "<div>\n",
              "<style scoped>\n",
              "    .dataframe tbody tr th:only-of-type {\n",
              "        vertical-align: middle;\n",
              "    }\n",
              "\n",
              "    .dataframe tbody tr th {\n",
              "        vertical-align: top;\n",
              "    }\n",
              "\n",
              "    .dataframe thead th {\n",
              "        text-align: right;\n",
              "    }\n",
              "</style>\n",
              "<table border=\"1\" class=\"dataframe\">\n",
              "  <thead>\n",
              "    <tr style=\"text-align: right;\">\n",
              "      <th></th>\n",
              "      <th>scholarshipAvailed</th>\n",
              "      <th>age</th>\n",
              "      <th>pincode</th>\n",
              "      <th>hasAdhar_Yes</th>\n",
              "      <th>literacy_Literate</th>\n",
              "      <th>eduType_Informal</th>\n",
              "      <th>statusFormalEdu_Dropout</th>\n",
              "      <th>statusFormalEdu_Finished Education</th>\n",
              "      <th>isHeadOfFamily_Yes</th>\n",
              "      <th>hasPDS_Yes</th>\n",
              "      <th>hasSECC_Unknown Number</th>\n",
              "      <th>hasSECC_Yes</th>\n",
              "      <th>hasAyushmanBharat_Unknown</th>\n",
              "      <th>hasAyushmanBharat_Yes</th>\n",
              "      <th>hasLand_Yes</th>\n",
              "      <th>hasHealthCert_Unknown</th>\n",
              "      <th>hasHealthCert_Yes</th>\n",
              "    </tr>\n",
              "  </thead>\n",
              "  <tbody>\n",
              "    <tr>\n",
              "      <th>0</th>\n",
              "      <td>2</td>\n",
              "      <td>28</td>\n",
              "      <td>700027</td>\n",
              "      <td>1</td>\n",
              "      <td>1</td>\n",
              "      <td>0</td>\n",
              "      <td>0</td>\n",
              "      <td>0</td>\n",
              "      <td>1</td>\n",
              "      <td>0</td>\n",
              "      <td>0</td>\n",
              "      <td>0</td>\n",
              "      <td>0</td>\n",
              "      <td>0</td>\n",
              "      <td>1</td>\n",
              "      <td>0</td>\n",
              "      <td>0</td>\n",
              "    </tr>\n",
              "    <tr>\n",
              "      <th>7</th>\n",
              "      <td>2</td>\n",
              "      <td>1</td>\n",
              "      <td>700027</td>\n",
              "      <td>0</td>\n",
              "      <td>0</td>\n",
              "      <td>0</td>\n",
              "      <td>0</td>\n",
              "      <td>1</td>\n",
              "      <td>1</td>\n",
              "      <td>0</td>\n",
              "      <td>0</td>\n",
              "      <td>0</td>\n",
              "      <td>0</td>\n",
              "      <td>0</td>\n",
              "      <td>0</td>\n",
              "      <td>0</td>\n",
              "      <td>0</td>\n",
              "    </tr>\n",
              "    <tr>\n",
              "      <th>8</th>\n",
              "      <td>2</td>\n",
              "      <td>30</td>\n",
              "      <td>490024</td>\n",
              "      <td>1</td>\n",
              "      <td>1</td>\n",
              "      <td>0</td>\n",
              "      <td>0</td>\n",
              "      <td>1</td>\n",
              "      <td>1</td>\n",
              "      <td>0</td>\n",
              "      <td>0</td>\n",
              "      <td>0</td>\n",
              "      <td>0</td>\n",
              "      <td>0</td>\n",
              "      <td>0</td>\n",
              "      <td>0</td>\n",
              "      <td>0</td>\n",
              "    </tr>\n",
              "    <tr>\n",
              "      <th>9</th>\n",
              "      <td>2</td>\n",
              "      <td>30</td>\n",
              "      <td>490024</td>\n",
              "      <td>1</td>\n",
              "      <td>1</td>\n",
              "      <td>0</td>\n",
              "      <td>0</td>\n",
              "      <td>1</td>\n",
              "      <td>1</td>\n",
              "      <td>0</td>\n",
              "      <td>0</td>\n",
              "      <td>0</td>\n",
              "      <td>0</td>\n",
              "      <td>0</td>\n",
              "      <td>1</td>\n",
              "      <td>0</td>\n",
              "      <td>0</td>\n",
              "    </tr>\n",
              "    <tr>\n",
              "      <th>11</th>\n",
              "      <td>2</td>\n",
              "      <td>41</td>\n",
              "      <td>494670</td>\n",
              "      <td>0</td>\n",
              "      <td>0</td>\n",
              "      <td>0</td>\n",
              "      <td>0</td>\n",
              "      <td>1</td>\n",
              "      <td>0</td>\n",
              "      <td>0</td>\n",
              "      <td>0</td>\n",
              "      <td>0</td>\n",
              "      <td>0</td>\n",
              "      <td>0</td>\n",
              "      <td>1</td>\n",
              "      <td>0</td>\n",
              "      <td>0</td>\n",
              "    </tr>\n",
              "    <tr>\n",
              "      <th>...</th>\n",
              "      <td>...</td>\n",
              "      <td>...</td>\n",
              "      <td>...</td>\n",
              "      <td>...</td>\n",
              "      <td>...</td>\n",
              "      <td>...</td>\n",
              "      <td>...</td>\n",
              "      <td>...</td>\n",
              "      <td>...</td>\n",
              "      <td>...</td>\n",
              "      <td>...</td>\n",
              "      <td>...</td>\n",
              "      <td>...</td>\n",
              "      <td>...</td>\n",
              "      <td>...</td>\n",
              "      <td>...</td>\n",
              "      <td>...</td>\n",
              "    </tr>\n",
              "    <tr>\n",
              "      <th>15768</th>\n",
              "      <td>2</td>\n",
              "      <td>80</td>\n",
              "      <td>491441</td>\n",
              "      <td>1</td>\n",
              "      <td>1</td>\n",
              "      <td>0</td>\n",
              "      <td>0</td>\n",
              "      <td>1</td>\n",
              "      <td>1</td>\n",
              "      <td>1</td>\n",
              "      <td>0</td>\n",
              "      <td>0</td>\n",
              "      <td>0</td>\n",
              "      <td>0</td>\n",
              "      <td>1</td>\n",
              "      <td>0</td>\n",
              "      <td>0</td>\n",
              "    </tr>\n",
              "    <tr>\n",
              "      <th>15786</th>\n",
              "      <td>2</td>\n",
              "      <td>41</td>\n",
              "      <td>491441</td>\n",
              "      <td>1</td>\n",
              "      <td>1</td>\n",
              "      <td>0</td>\n",
              "      <td>0</td>\n",
              "      <td>1</td>\n",
              "      <td>1</td>\n",
              "      <td>1</td>\n",
              "      <td>0</td>\n",
              "      <td>0</td>\n",
              "      <td>1</td>\n",
              "      <td>0</td>\n",
              "      <td>1</td>\n",
              "      <td>0</td>\n",
              "      <td>0</td>\n",
              "    </tr>\n",
              "    <tr>\n",
              "      <th>15856</th>\n",
              "      <td>2</td>\n",
              "      <td>47</td>\n",
              "      <td>491441</td>\n",
              "      <td>1</td>\n",
              "      <td>1</td>\n",
              "      <td>1</td>\n",
              "      <td>0</td>\n",
              "      <td>1</td>\n",
              "      <td>1</td>\n",
              "      <td>1</td>\n",
              "      <td>0</td>\n",
              "      <td>0</td>\n",
              "      <td>0</td>\n",
              "      <td>0</td>\n",
              "      <td>1</td>\n",
              "      <td>0</td>\n",
              "      <td>0</td>\n",
              "    </tr>\n",
              "    <tr>\n",
              "      <th>15896</th>\n",
              "      <td>2</td>\n",
              "      <td>56</td>\n",
              "      <td>491441</td>\n",
              "      <td>1</td>\n",
              "      <td>1</td>\n",
              "      <td>0</td>\n",
              "      <td>0</td>\n",
              "      <td>1</td>\n",
              "      <td>1</td>\n",
              "      <td>1</td>\n",
              "      <td>0</td>\n",
              "      <td>0</td>\n",
              "      <td>0</td>\n",
              "      <td>0</td>\n",
              "      <td>0</td>\n",
              "      <td>0</td>\n",
              "      <td>0</td>\n",
              "    </tr>\n",
              "    <tr>\n",
              "      <th>15924</th>\n",
              "      <td>2</td>\n",
              "      <td>67</td>\n",
              "      <td>491441</td>\n",
              "      <td>1</td>\n",
              "      <td>0</td>\n",
              "      <td>0</td>\n",
              "      <td>0</td>\n",
              "      <td>1</td>\n",
              "      <td>1</td>\n",
              "      <td>0</td>\n",
              "      <td>1</td>\n",
              "      <td>0</td>\n",
              "      <td>0</td>\n",
              "      <td>0</td>\n",
              "      <td>1</td>\n",
              "      <td>0</td>\n",
              "      <td>0</td>\n",
              "    </tr>\n",
              "  </tbody>\n",
              "</table>\n",
              "<p>3650 rows × 17 columns</p>\n",
              "</div>"
            ],
            "text/plain": [
              "       scholarshipAvailed  age  ...  hasHealthCert_Unknown  hasHealthCert_Yes\n",
              "0                       2   28  ...                      0                  0\n",
              "7                       2    1  ...                      0                  0\n",
              "8                       2   30  ...                      0                  0\n",
              "9                       2   30  ...                      0                  0\n",
              "11                      2   41  ...                      0                  0\n",
              "...                   ...  ...  ...                    ...                ...\n",
              "15768                   2   80  ...                      0                  0\n",
              "15786                   2   41  ...                      0                  0\n",
              "15856                   2   47  ...                      0                  0\n",
              "15896                   2   56  ...                      0                  0\n",
              "15924                   2   67  ...                      0                  0\n",
              "\n",
              "[3650 rows x 17 columns]"
            ]
          },
          "metadata": {
            "tags": []
          },
          "execution_count": 114
        }
      ]
    },
    {
      "cell_type": "code",
      "metadata": {
        "id": "H9uEZesmo5g8"
      },
      "source": [
        ""
      ],
      "execution_count": null,
      "outputs": []
    },
    {
      "cell_type": "code",
      "metadata": {
        "id": "myG0-fePo5kv"
      },
      "source": [
        ""
      ],
      "execution_count": null,
      "outputs": []
    },
    {
      "cell_type": "code",
      "metadata": {
        "id": "Vg4xS3Mjo5uW"
      },
      "source": [
        ""
      ],
      "execution_count": null,
      "outputs": []
    },
    {
      "cell_type": "markdown",
      "metadata": {
        "id": "yyu70Rswo6dO"
      },
      "source": [
        "# ***Visualization*** \n",
        "\n",
        "\n"
      ]
    },
    {
      "cell_type": "markdown",
      "metadata": {
        "id": "G4E-9L9ftc9Q"
      },
      "source": [
        "we are here using **matplotlib** and **seaborn** . We can use other libraries like **plotly** , **cufflink** , but those can not be uploaded in github . We can use them for online plotting ."
      ]
    },
    {
      "cell_type": "code",
      "metadata": {
        "id": "vouRSdiGpLQo"
      },
      "source": [
        "import matplotlib.pyplot as plt \n",
        "import seaborn as sns"
      ],
      "execution_count": 115,
      "outputs": []
    },
    {
      "cell_type": "code",
      "metadata": {
        "id": "BauL766NL-xS"
      },
      "source": [
        "df_new=pd.read_csv(\"https://raw.githubusercontent.com/Sumit-Kumar-Dash/study-material/main/Indus_DS_PreWork_Data%20-%20raw.csv?token=AH4VYPQ7KJF4AGDEDFHDDX3A77FQO\")"
      ],
      "execution_count": 171,
      "outputs": []
    },
    {
      "cell_type": "code",
      "metadata": {
        "id": "Ln9-pLRDMRcK"
      },
      "source": [
        "columnNameList=['id','eduInformal','eduOther','vocationCategory','interestedCertProgram','immovablePropLostCOVID','movablePropLostCOVID','injuryCOVID','illnessCOVID','disabledCOVID','liveLostCOVID',\n",
        "         'wageRecievedCOVID','noGroup','isFPOMember','isCooperativeMember','isSHGMember','isWageEarner','employmentType','reasonLandless','relWithHeadOfFamily','genderHeadOfFamily','eduTransport',\n",
        "         'noScholarshipReason','typeOfSchool','eduOther','eduInformal','hasEnrolledAdultLiteracy']\n",
        "df_new.drop(columnNameList,axis=1,inplace=True)"
      ],
      "execution_count": 173,
      "outputs": []
    },
    {
      "cell_type": "code",
      "metadata": {
        "id": "RR04oxJh3ufw"
      },
      "source": [
        "df_new=df.replace({'scholarshipAvailed':{'हाँ':'availed','नही':'Not availed','नहीं':'Not availed'},\n",
        "            'hasAdhar':{'हाँ':'Yes','नही':'No'},\n",
        "            'literacy':{'शिक्षित':'Literate','अशिक्षित':'Illiterate'},\n",
        "            'eduType':{'औपचारिक':'Formal','अनौपचारिक':'Informal','#NAME?':'Informal'},\n",
        "            'statusFormalEdu':{'शिक्षा पूर्ण':'Finished Education','जारी है':'Continuing','--- चुनिए ---':'Continuing'},\n",
        "            'isHeadOfFamily':{'हाँ':'Yes','नही':'No','नहीं':'No'},\n",
        "            'hasPDS':{'हाँ':'Yes','नही':'No','नहीं':'No'},\n",
        "            'hasSECC':{'नही':'No','नंबर नहीं पता':'Unknown Number','नहीं':'No','हाँ':'Yes'},\n",
        "            'hasAyushmanBharat':{'नही':'No','नंबर नहीं पता':'Unknown','नहीं':'No','हाँ':'Yes'},\n",
        "            'hasLand':{'नहीं':'No','हाँ':'Yes'},\n",
        "            'hasHealthCert':{'नहीं':'No','हाँ':'Yes','नहीं/नंबर':'Unknown'}})"
      ],
      "execution_count": 174,
      "outputs": []
    },
    {
      "cell_type": "markdown",
      "metadata": {
        "id": "pZ64c1nR1Vq-"
      },
      "source": [
        "# **1. Survey Details**"
      ]
    },
    {
      "cell_type": "code",
      "metadata": {
        "colab": {
          "base_uri": "https://localhost:8080/",
          "height": 302
        },
        "id": "qG6Og6CA4e67",
        "outputId": "2deee1cf-c461-4564-cd1d-f59d82a55112"
      },
      "source": [
        "sns.scatterplot(data=df_new, x=\"age\", y=\"pincode\",hue='scholarshipAvailed')"
      ],
      "execution_count": 175,
      "outputs": [
        {
          "output_type": "execute_result",
          "data": {
            "text/plain": [
              "<matplotlib.axes._subplots.AxesSubplot at 0x7fd38e34cd10>"
            ]
          },
          "metadata": {
            "tags": []
          },
          "execution_count": 175
        },
        {
          "output_type": "display_data",
          "data": {
            "image/png": "[encoded data removed]",
            "text/plain": [
              "<Figure size 432x288 with 1 Axes>"
            ]
          },
          "metadata": {
            "tags": []
          }
        }
      ]
    },
    {
      "cell_type": "markdown",
      "metadata": {
        "id": "OJoRcLI55XJ8"
      },
      "source": [
        "## In above graph we can conclude the survey with complete data (i.e.,where we have the value for target variable \"scholarshipAvailed\")is mostly confined to one particular state we have most of the records are for few pincodes (i.e, pincodes start with 5 ).It means only for people from Andhra Pradesh , Telengana and Karnataka , have complete records . So we need to have a better survey with filling all details from other States also."
      ]
    },
    {
      "cell_type": "markdown",
      "metadata": {
        "id": "GPV6ttXN-Mts"
      },
      "source": [
        "# **2. Worker outreach**"
      ]
    },
    {
      "cell_type": "code",
      "metadata": {
        "colab": {
          "base_uri": "https://localhost:8080/"
        },
        "id": "QwvuI-yU9eJs",
        "outputId": "dae5d4ac-1f23-49b4-8377-f891c3b98ae0"
      },
      "source": [
        "df.columns"
      ],
      "execution_count": 146,
      "outputs": [
        {
          "output_type": "execute_result",
          "data": {
            "text/plain": [
              "Index(['scholarshipAvailed', 'age', 'pincode', 'hasAdhar', 'literacy',\n",
              "       'eduType', 'statusFormalEdu', 'isHeadOfFamily', 'hasPDS', 'hasSECC',\n",
              "       'hasAyushmanBharat', 'hasLand', 'hasHealthCert'],\n",
              "      dtype='object')"
            ]
          },
          "metadata": {
            "tags": []
          },
          "execution_count": 146
        }
      ]
    },
    {
      "cell_type": "code",
      "metadata": {
        "id": "AQM1xRZQASoW"
      },
      "source": [
        "l=df_new.loc[df_new['age']<0]"
      ],
      "execution_count": null,
      "outputs": []
    },
    {
      "cell_type": "code",
      "metadata": {
        "id": "OFyoCiDuBMMd"
      },
      "source": [
        "df_new.drop([2868,14634,14635,14636],axis=0,inplace=True)"
      ],
      "execution_count": 177,
      "outputs": []
    },
    {
      "cell_type": "code",
      "metadata": {
        "colab": {
          "base_uri": "https://localhost:8080/",
          "height": 399
        },
        "id": "avHiGMmW_pp2",
        "outputId": "5d43f8d3-b5c5-4ad6-ca90-3ebaad279a75"
      },
      "source": [
        "sns.catplot(x=\"eduType\",y='age', kind=\"strip\", hue='hasLand',data=df_new)"
      ],
      "execution_count": 193,
      "outputs": [
        {
          "output_type": "execute_result",
          "data": {
            "text/plain": [
              "<seaborn.axisgrid.FacetGrid at 0x7fd3903c0ad0>"
            ]
          },
          "metadata": {
            "tags": []
          },
          "execution_count": 193
        },
        {
          "output_type": "display_data",
          "data": {
            "image/png": "[encoded data removed]",
            "text/plain": [
              "<Figure size 419.675x360 with 1 Axes>"
            ]
          },
          "metadata": {
            "tags": []
          }
        }
      ]
    },
    {
      "cell_type": "code",
      "metadata": {
        "colab": {
          "base_uri": "https://localhost:8080/",
          "height": 399
        },
        "id": "y6GQhD59__iE",
        "outputId": "32e2c2ab-ae85-4341-8a1e-b5270653b5e7"
      },
      "source": [
        "sns.catplot(y=\"age\", x=\"statusFormalEdu\", hue='isHeadOfFamily', kind=\"violin\", data=df_new)"
      ],
      "execution_count": 190,
      "outputs": [
        {
          "output_type": "execute_result",
          "data": {
            "text/plain": [
              "<seaborn.axisgrid.FacetGrid at 0x7fd39068d850>"
            ]
          },
          "metadata": {
            "tags": []
          },
          "execution_count": 190
        },
        {
          "output_type": "display_data",
          "data": {
            "image/png": "[encoded data removed]",
            "text/plain": [
              "<Figure size 462.425x360 with 1 Axes>"
            ]
          },
          "metadata": {
            "tags": []
          }
        }
      ]
    },
    {
      "cell_type": "markdown",
      "metadata": {
        "id": "9Tj-vW31OOQP"
      },
      "source": [
        "# **`Above two graphs gives an insight between workers of different age groups with their educational details . `**\n",
        "\n",
        "\n",
        "*   Most of the workers from age group between 20 to 60 and not having formal education  , not have a land for them . So these people should be most targeted as they are most vulnerable people who dont have education and land .\n",
        "*   And from the second graph we can conclude that most of those workers who are dropout are heading the family , so they must need financial help or scholarship for them .\n",
        "\n",
        "\n",
        "\n",
        "\n"
      ]
    },
    {
      "cell_type": "markdown",
      "metadata": {
        "id": "SHNo6UbjSC8z"
      },
      "source": [
        "# **`3. `**"
      ]
    },
    {
      "cell_type": "code",
      "metadata": {
        "colab": {
          "base_uri": "https://localhost:8080/",
          "height": 526
        },
        "id": "mNyoHFGiRt1E",
        "outputId": "5905bac5-c9c8-42bb-cc94-358d6b4305dc"
      },
      "source": [
        "sns.catplot(x=\"age\", y=\"literacy\", col=\"hasAdhar\",\n",
        "                hue=\"hasHealthCert\", data=df_new,\n",
        "                height=10, aspect=1.2)"
      ],
      "execution_count": 199,
      "outputs": [
        {
          "output_type": "execute_result",
          "data": {
            "text/plain": [
              "<seaborn.axisgrid.FacetGrid at 0x7fd3909d8b90>"
            ]
          },
          "metadata": {
            "tags": []
          },
          "execution_count": 199
        },
        {
          "output_type": "display_data",
          "data": {
            "image/png": "[encoded data removed]",
            "text/plain": [
              "<Figure size 1823.42x720 with 2 Axes>"
            ]
          },
          "metadata": {
            "tags": []
          }
        }
      ]
    },
    {
      "cell_type": "markdown",
      "metadata": {
        "id": "jFX3fO9sTy5h"
      },
      "source": [
        "# **`In india , there are as much workers as illiterate than literate and they highly densed betwwen age group 30-50 . `**\n",
        "\n",
        "\n",
        "*   We can identify them very easily as most of them has Adhar Card .\n",
        "*   And most of the early age workers (both literate and illiterate) dont have health certificate . They need to declare it .\n",
        "\n"
      ]
    },
    {
      "cell_type": "code",
      "metadata": {
        "id": "7ama07EPTWiT"
      },
      "source": [
        ""
      ],
      "execution_count": null,
      "outputs": []
    }
  ]
}